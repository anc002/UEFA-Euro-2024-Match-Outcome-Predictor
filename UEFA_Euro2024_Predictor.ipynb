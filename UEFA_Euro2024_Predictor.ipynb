{
 "cells": [
  {
   "cell_type": "markdown",
   "metadata": {
    "id": "bTV9A1w3pkdH"
   },
   "source": [
    "# UEFA Euro 2024 Predictor\n",
    "\n",
    "## Predicting the Euro 2024 Bracket\n",
    "\n",
    "Anzar Chowdhury, Ben Ghouzi, Triya Basu & Emma Rabbath"
   ]
  },
  {
   "cell_type": "markdown",
   "metadata": {
    "id": "m-0keFz0Hl-t"
   },
   "source": [
    "# **Data Wrangling**"
   ]
  },
  {
   "cell_type": "markdown",
   "metadata": {
    "id": "hCl3o4THf8gm"
   },
   "source": [
    "## Overview of Datasets\n",
    "We are using the International Football Results dataset from 1872 to 2024 from kaggle:\n",
    "https://www.kaggle.com/datasets/martj42/international-football-results-from-1872-to-2017\n",
    "\n",
    "We are specifically using the data from the results.csv file for past match performance results between teams. results.csv includes the following columns:\n",
    "\n",
    "- date - date of the match\n",
    "- home_team - the name of the home team\n",
    "- away_team - the name of the away team\n",
    "- home_score - full-time home team score including extra time, not including penalty-shootouts\n",
    "- away_score - full-time away team score including extra time, not including penalty-shootouts\n",
    "- tournament - the name of the tournament\n",
    "- city - the name of the city/town/administrative unit where the match was played\n",
    "- country - the name of the country where the match was played\n",
    "- neutral - TRUE/FALSE column indicating whether the match was played at a neutral venue\n",
    "\n",
    "\n",
    "In addition, we are also using a FIFA Rankings dataset from 1872 to 2024 from kaggle:\n",
    "https://www.kaggle.com/datasets/cashncarry/fifaworldranking\n",
    "\n",
    "This dataset contains information with regards to the ranking of each team. Columns from the dataset (fifa_ranking-2023-07-20.csv) include:\n",
    "- country_full — country full name\n",
    "- country_abrv — country abbreviation\n",
    "- rank — current country rank\n",
    "- total_points — current total points\n",
    "- previous_points — total points in last rating\n",
    "- rank_change — how rank has changed since the last publication\n",
    "- confederation — FIFA confederations\n",
    "- rank_date — date of rating calculation\n",
    "- column ID has been deleted from source\n",
    "\n",
    "We uploaded the two datasets to GitHub for ease of use, as it would not result in any confusion that may be caused by hard coding a file path.\n",
    "\n",
    "fifa_results_url = https://raw.githubusercontent.com/anc002/ds3000project/main/results.csv\n",
    "\n",
    "fifa_rankings_url = https://raw.githubusercontent.com/anc002/ds3000project/main/fifa_ranking-2023-07-20.csv\n"
   ]
  },
  {
   "cell_type": "markdown",
   "metadata": {
    "id": "S839d7K_DiEg"
   },
   "source": [
    "## **Loading & Prepping FIFA Dataset: International football results from 1872 to 2024**"
   ]
  },
  {
   "cell_type": "markdown",
   "metadata": {
    "id": "mHQolpF6S3En"
   },
   "source": [
    "**Importing Libraries**"
   ]
  },
  {
   "cell_type": "code",
   "execution_count": 1,
   "metadata": {
    "id": "ohgSgLVD6acC"
   },
   "outputs": [
    {
     "name": "stderr",
     "output_type": "stream",
     "text": [
      "/var/folders/dd/5hhztzc96t1717zrjlkk8nsh0000gn/T/ipykernel_90068/1285016483.py:1: DeprecationWarning: \n",
      "Pyarrow will become a required dependency of pandas in the next major release of pandas (pandas 3.0),\n",
      "(to allow more performant data types, such as the Arrow string type, and better interoperability with other libraries)\n",
      "but was not found to be installed on your system.\n",
      "If this would cause problems for you,\n",
      "please provide us feedback at https://github.com/pandas-dev/pandas/issues/54466\n",
      "        \n",
      "  import pandas as pd\n"
     ]
    }
   ],
   "source": [
    "import pandas as pd\n",
    "import numpy as np\n",
    "import seaborn as sns"
   ]
  },
  {
   "cell_type": "markdown",
   "metadata": {
    "id": "ciSRWahxSwrG"
   },
   "source": [
    "**Loading Data**"
   ]
  },
  {
   "cell_type": "code",
   "execution_count": 2,
   "metadata": {
    "colab": {
     "base_uri": "https://localhost:8080/",
     "height": 0
    },
    "id": "UKMiCy1FDivP",
    "outputId": "8db7fa75-c651-451f-8a00-124e2a4ec50e"
   },
   "outputs": [
    {
     "data": {
      "text/html": [
       "<div>\n",
       "<style scoped>\n",
       "    .dataframe tbody tr th:only-of-type {\n",
       "        vertical-align: middle;\n",
       "    }\n",
       "\n",
       "    .dataframe tbody tr th {\n",
       "        vertical-align: top;\n",
       "    }\n",
       "\n",
       "    .dataframe thead th {\n",
       "        text-align: right;\n",
       "    }\n",
       "</style>\n",
       "<table border=\"1\" class=\"dataframe\">\n",
       "  <thead>\n",
       "    <tr style=\"text-align: right;\">\n",
       "      <th></th>\n",
       "      <th>date</th>\n",
       "      <th>home_team</th>\n",
       "      <th>away_team</th>\n",
       "      <th>home_score</th>\n",
       "      <th>away_score</th>\n",
       "      <th>tournament</th>\n",
       "      <th>city</th>\n",
       "      <th>country</th>\n",
       "      <th>neutral</th>\n",
       "    </tr>\n",
       "  </thead>\n",
       "  <tbody>\n",
       "    <tr>\n",
       "      <th>0</th>\n",
       "      <td>1872-11-30</td>\n",
       "      <td>Scotland</td>\n",
       "      <td>England</td>\n",
       "      <td>0</td>\n",
       "      <td>0</td>\n",
       "      <td>Friendly</td>\n",
       "      <td>Glasgow</td>\n",
       "      <td>Scotland</td>\n",
       "      <td>False</td>\n",
       "    </tr>\n",
       "    <tr>\n",
       "      <th>1</th>\n",
       "      <td>1873-03-08</td>\n",
       "      <td>England</td>\n",
       "      <td>Scotland</td>\n",
       "      <td>4</td>\n",
       "      <td>2</td>\n",
       "      <td>Friendly</td>\n",
       "      <td>London</td>\n",
       "      <td>England</td>\n",
       "      <td>False</td>\n",
       "    </tr>\n",
       "    <tr>\n",
       "      <th>2</th>\n",
       "      <td>1874-03-07</td>\n",
       "      <td>Scotland</td>\n",
       "      <td>England</td>\n",
       "      <td>2</td>\n",
       "      <td>1</td>\n",
       "      <td>Friendly</td>\n",
       "      <td>Glasgow</td>\n",
       "      <td>Scotland</td>\n",
       "      <td>False</td>\n",
       "    </tr>\n",
       "    <tr>\n",
       "      <th>3</th>\n",
       "      <td>1875-03-06</td>\n",
       "      <td>England</td>\n",
       "      <td>Scotland</td>\n",
       "      <td>2</td>\n",
       "      <td>2</td>\n",
       "      <td>Friendly</td>\n",
       "      <td>London</td>\n",
       "      <td>England</td>\n",
       "      <td>False</td>\n",
       "    </tr>\n",
       "    <tr>\n",
       "      <th>4</th>\n",
       "      <td>1876-03-04</td>\n",
       "      <td>Scotland</td>\n",
       "      <td>England</td>\n",
       "      <td>3</td>\n",
       "      <td>0</td>\n",
       "      <td>Friendly</td>\n",
       "      <td>Glasgow</td>\n",
       "      <td>Scotland</td>\n",
       "      <td>False</td>\n",
       "    </tr>\n",
       "  </tbody>\n",
       "</table>\n",
       "</div>"
      ],
      "text/plain": [
       "         date home_team away_team  home_score  away_score tournament     city  \\\n",
       "0  1872-11-30  Scotland   England           0           0   Friendly  Glasgow   \n",
       "1  1873-03-08   England  Scotland           4           2   Friendly   London   \n",
       "2  1874-03-07  Scotland   England           2           1   Friendly  Glasgow   \n",
       "3  1875-03-06   England  Scotland           2           2   Friendly   London   \n",
       "4  1876-03-04  Scotland   England           3           0   Friendly  Glasgow   \n",
       "\n",
       "    country  neutral  \n",
       "0  Scotland    False  \n",
       "1   England    False  \n",
       "2  Scotland    False  \n",
       "3   England    False  \n",
       "4  Scotland    False  "
      ]
     },
     "execution_count": 2,
     "metadata": {},
     "output_type": "execute_result"
    }
   ],
   "source": [
    "# Loading Data\n",
    "fifa_results_url = 'https://raw.githubusercontent.com/anc002/ds3000project/main/results.csv'\n",
    "fifa_results_df = pd.read_csv(fifa_results_url)\n",
    "\n",
    "# Display first few rows\n",
    "fifa_results_df.head()"
   ]
  },
  {
   "cell_type": "code",
   "execution_count": 3,
   "metadata": {
    "colab": {
     "base_uri": "https://localhost:8080/"
    },
    "id": "Vp61OxhsZF7O",
    "outputId": "afb16169-239a-421e-8b72-9b5e92d9ba45"
   },
   "outputs": [
    {
     "name": "stdout",
     "output_type": "stream",
     "text": [
      "<class 'pandas.core.frame.DataFrame'>\n",
      "RangeIndex: 46289 entries, 0 to 46288\n",
      "Data columns (total 9 columns):\n",
      " #   Column      Non-Null Count  Dtype \n",
      "---  ------      --------------  ----- \n",
      " 0   date        46289 non-null  object\n",
      " 1   home_team   46289 non-null  object\n",
      " 2   away_team   46289 non-null  object\n",
      " 3   home_score  46289 non-null  int64 \n",
      " 4   away_score  46289 non-null  int64 \n",
      " 5   tournament  46289 non-null  object\n",
      " 6   city        46289 non-null  object\n",
      " 7   country     46289 non-null  object\n",
      " 8   neutral     46289 non-null  bool  \n",
      "dtypes: bool(1), int64(2), object(6)\n",
      "memory usage: 2.9+ MB\n"
     ]
    }
   ],
   "source": [
    "# Get an understanding of the Data\n",
    "fifa_results_df.info()"
   ]
  },
  {
   "cell_type": "markdown",
   "metadata": {
    "id": "p8bLbm-4D_oc"
   },
   "source": [
    "**Cleaning & Filtering Data**"
   ]
  },
  {
   "cell_type": "code",
   "execution_count": 4,
   "metadata": {
    "id": "HTou40GFYM31"
   },
   "outputs": [],
   "source": [
    "# Convert 'date' column to datetime\n",
    "fifa_results_df['date'] = pd.to_datetime(fifa_results_df['date'])\n",
    "\n",
    "# Filter data for matches from 2014 onwards\n",
    "fifa_results_df = fifa_results_df[fifa_results_df['date'] >= '2014-01-01']"
   ]
  },
  {
   "cell_type": "markdown",
   "metadata": {
    "id": "nqgFpz3RLsmx"
   },
   "source": [
    "Football teams can undergo significant changes over time, including changes in player rosters, coaching staff, and strategies. Data from the last 10 years is likely to be more reflective of the current strengths and weaknesses of the teams.\n",
    "\n",
    "Hence the data includes results for the FIFA 2014, 2018 & 2022 World Cup and Euro 2016 & 2020 along with other friendly matches, qualifiers, etc."
   ]
  },
  {
   "cell_type": "code",
   "execution_count": 5,
   "metadata": {
    "colab": {
     "base_uri": "https://localhost:8080/"
    },
    "id": "5Q0gqOdcH3UV",
    "outputId": "d471ba70-35f8-4a21-a320-edafc72d8530"
   },
   "outputs": [
    {
     "name": "stdout",
     "output_type": "stream",
     "text": [
      "Number of Home Countries: 33, Number of Away Countries: 33\n"
     ]
    }
   ],
   "source": [
    "# Filter data for UEFA 2024 teams\n",
    "uefa_2024_teams = ['Albania', 'Austria', 'Belgium', 'Croatia', 'Czechia', 'Denmark', 'England', 'France', 'Germany', 'Hungary', 'Italy', 'Netherlands',\n",
    "                   'Portugal', 'Romania', 'Scotland', 'Serbia', 'Slovakia', 'Slovenia', 'Spain', 'Switzerland', 'Turkey']\n",
    "\n",
    "# List of teams in play-offs\n",
    "uefa_2024_playoff_teams = ['Poland', 'Estonia', 'Wales', 'Finland', 'Israel', 'Iceland', 'Bosnia and Herzegovina', 'Ukraine', 'Georgia', 'Luxembourg',\n",
    "                           'Greece', 'Kazakhstan']\n",
    "\n",
    "# Adding play-off teams to list\n",
    "uefa_2024_teams.extend(uefa_2024_playoff_teams)\n",
    "\n",
    "# Replace 'Czech Republic' with 'Czechia'\n",
    "fifa_results_df.replace({'home_team': 'Czech Republic', 'away_team': 'Czech Republic'}, 'Czechia', inplace=True)\n",
    "\n",
    "\n",
    "# Filter data to only include countries playing in EURO 2024\n",
    "fifa_results_df = fifa_results_df[(fifa_results_df['home_team'].isin(uefa_2024_teams)) &\n",
    "                                  (fifa_results_df['away_team'].isin(uefa_2024_teams))]\n",
    "\n",
    "# Making sure results are consistent\n",
    "print(f\"Number of Home Countries: {len(fifa_results_df['home_team'].unique())}, Number of Away Countries: {len(fifa_results_df['away_team'].unique())}\")\n"
   ]
  },
  {
   "cell_type": "markdown",
   "metadata": {
    "id": "DV4_p4pCG57-"
   },
   "source": [
    "We need to filter Home and Away teams for countries that have qualified to play in the UEFA Euro 2024, since there are three teams out of twelve yet to be chosen as of 28th February through play-offs, those teams will be included for now as well.\n",
    "\n",
    "https://www.uefa.com/euro2024/draws/\n",
    "\n",
    "https://www.uefa.com/european-qualifiers/news/0279-1635c1adf4c0-831ffc150fff-1000--euro-2024-play-offs-how-they-work-state-of-play/\n",
    "\n",
    "---\n",
    "\n",
    "It is important to note that Czechia has recently changed its name from the\n",
    "\n",
    "Czech Republic, in order to make sure that the data is consistent, all instances of the Czech Republic will be changed to Czechia\n",
    "\n",
    "https://www.timeout.com/news/the-czech-republic-is-changing-its-name-heres-why-022123"
   ]
  },
  {
   "cell_type": "code",
   "execution_count": 6,
   "metadata": {
    "colab": {
     "base_uri": "https://localhost:8080/"
    },
    "id": "YRbAqHyY8Ad8",
    "outputId": "6142421d-c825-4480-b750-3f0f40170e4c"
   },
   "outputs": [
    {
     "name": "stdout",
     "output_type": "stream",
     "text": [
      "No null values in the Data Set\n"
     ]
    }
   ],
   "source": [
    "# Check for null values\n",
    "null_counts = fifa_results_df.isnull().sum()\n",
    "\n",
    "# If there are no null values, print 'No null values'\n",
    "if null_counts.sum() == 0:\n",
    "    print(\"No null values in the Data Set\")\n",
    "else:\n",
    "    # If there are null values, print number of null values in each column\n",
    "    print(\"Number of null values in each column:\")\n",
    "    print(null_counts)\n"
   ]
  },
  {
   "cell_type": "code",
   "execution_count": 7,
   "metadata": {
    "colab": {
     "base_uri": "https://localhost:8080/"
    },
    "id": "bQLUVJj5kItX",
    "outputId": "556c76b1-cbca-4070-ceee-72f3ba329e1b"
   },
   "outputs": [
    {
     "name": "stdout",
     "output_type": "stream",
     "text": [
      "<class 'pandas.core.frame.DataFrame'>\n",
      "Index: 1016 entries, 37085 to 46139\n",
      "Data columns (total 9 columns):\n",
      " #   Column      Non-Null Count  Dtype         \n",
      "---  ------      --------------  -----         \n",
      " 0   date        1016 non-null   datetime64[ns]\n",
      " 1   home_team   1016 non-null   category      \n",
      " 2   away_team   1016 non-null   category      \n",
      " 3   home_score  1016 non-null   int64         \n",
      " 4   away_score  1016 non-null   int64         \n",
      " 5   tournament  1016 non-null   category      \n",
      " 6   city        1016 non-null   category      \n",
      " 7   country     1016 non-null   category      \n",
      " 8   neutral     1016 non-null   bool          \n",
      "dtypes: bool(1), category(5), datetime64[ns](1), int64(2)\n",
      "memory usage: 52.7 KB\n"
     ]
    }
   ],
   "source": [
    "# Changing data types\n",
    "fifa_results_df = fifa_results_df.copy() # Making a copy of DataFrame\n",
    "fifa_results_df['home_team'] = fifa_results_df['home_team'].astype('category')\n",
    "fifa_results_df['away_team'] = fifa_results_df['away_team'].astype('category')\n",
    "fifa_results_df['home_score'] = fifa_results_df['home_score'].astype(int)\n",
    "fifa_results_df['away_score'] = fifa_results_df['away_score'].astype(int)\n",
    "fifa_results_df['tournament'] = fifa_results_df['tournament'].astype('category')\n",
    "fifa_results_df['city'] = fifa_results_df['city'].astype('category')\n",
    "fifa_results_df['country'] = fifa_results_df['country'].astype('category')\n",
    "fifa_results_df['neutral'] = fifa_results_df['neutral'].astype(bool)\n",
    "\n",
    "# View Datatype Changes\n",
    "fifa_results_df.info()"
   ]
  },
  {
   "cell_type": "markdown",
   "metadata": {
    "id": "TnYfZckjxfRn"
   },
   "source": [
    "Changing data types to suitable data types:\n",
    "- home_team, away_team, tournament, city and country are all categoriral data.\n",
    "- home_score and away_score are integers\n",
    "- neutral is a boolean"
   ]
  },
  {
   "cell_type": "markdown",
   "metadata": {
    "id": "RwNxm4jQ8QpC"
   },
   "source": [
    "## **Loading FIFA Ranking Dataset**"
   ]
  },
  {
   "cell_type": "markdown",
   "metadata": {
    "id": "H3ByM18LX11v"
   },
   "source": [
    "**Loading Data**"
   ]
  },
  {
   "cell_type": "code",
   "execution_count": 8,
   "metadata": {
    "colab": {
     "base_uri": "https://localhost:8080/",
     "height": 0
    },
    "id": "un4wMEvU7m13",
    "outputId": "555d61c6-04c3-4052-bf2a-f9bc2f6b119d"
   },
   "outputs": [
    {
     "data": {
      "text/html": [
       "<div>\n",
       "<style scoped>\n",
       "    .dataframe tbody tr th:only-of-type {\n",
       "        vertical-align: middle;\n",
       "    }\n",
       "\n",
       "    .dataframe tbody tr th {\n",
       "        vertical-align: top;\n",
       "    }\n",
       "\n",
       "    .dataframe thead th {\n",
       "        text-align: right;\n",
       "    }\n",
       "</style>\n",
       "<table border=\"1\" class=\"dataframe\">\n",
       "  <thead>\n",
       "    <tr style=\"text-align: right;\">\n",
       "      <th></th>\n",
       "      <th>rank</th>\n",
       "      <th>country_full</th>\n",
       "      <th>country_abrv</th>\n",
       "      <th>total_points</th>\n",
       "      <th>previous_points</th>\n",
       "      <th>rank_change</th>\n",
       "      <th>confederation</th>\n",
       "      <th>rank_date</th>\n",
       "    </tr>\n",
       "  </thead>\n",
       "  <tbody>\n",
       "    <tr>\n",
       "      <th>0</th>\n",
       "      <td>1</td>\n",
       "      <td>Germany</td>\n",
       "      <td>GER</td>\n",
       "      <td>57.0</td>\n",
       "      <td>0.0</td>\n",
       "      <td>0</td>\n",
       "      <td>UEFA</td>\n",
       "      <td>1992-12-31</td>\n",
       "    </tr>\n",
       "    <tr>\n",
       "      <th>1</th>\n",
       "      <td>96</td>\n",
       "      <td>Syria</td>\n",
       "      <td>SYR</td>\n",
       "      <td>11.0</td>\n",
       "      <td>0.0</td>\n",
       "      <td>0</td>\n",
       "      <td>AFC</td>\n",
       "      <td>1992-12-31</td>\n",
       "    </tr>\n",
       "    <tr>\n",
       "      <th>2</th>\n",
       "      <td>97</td>\n",
       "      <td>Burkina Faso</td>\n",
       "      <td>BFA</td>\n",
       "      <td>11.0</td>\n",
       "      <td>0.0</td>\n",
       "      <td>0</td>\n",
       "      <td>CAF</td>\n",
       "      <td>1992-12-31</td>\n",
       "    </tr>\n",
       "    <tr>\n",
       "      <th>3</th>\n",
       "      <td>99</td>\n",
       "      <td>Latvia</td>\n",
       "      <td>LVA</td>\n",
       "      <td>10.0</td>\n",
       "      <td>0.0</td>\n",
       "      <td>0</td>\n",
       "      <td>UEFA</td>\n",
       "      <td>1992-12-31</td>\n",
       "    </tr>\n",
       "    <tr>\n",
       "      <th>4</th>\n",
       "      <td>100</td>\n",
       "      <td>Burundi</td>\n",
       "      <td>BDI</td>\n",
       "      <td>10.0</td>\n",
       "      <td>0.0</td>\n",
       "      <td>0</td>\n",
       "      <td>CAF</td>\n",
       "      <td>1992-12-31</td>\n",
       "    </tr>\n",
       "  </tbody>\n",
       "</table>\n",
       "</div>"
      ],
      "text/plain": [
       "   rank  country_full country_abrv  total_points  previous_points  \\\n",
       "0     1       Germany          GER          57.0              0.0   \n",
       "1    96         Syria          SYR          11.0              0.0   \n",
       "2    97  Burkina Faso          BFA          11.0              0.0   \n",
       "3    99        Latvia          LVA          10.0              0.0   \n",
       "4   100       Burundi          BDI          10.0              0.0   \n",
       "\n",
       "   rank_change confederation   rank_date  \n",
       "0            0          UEFA  1992-12-31  \n",
       "1            0           AFC  1992-12-31  \n",
       "2            0           CAF  1992-12-31  \n",
       "3            0          UEFA  1992-12-31  \n",
       "4            0           CAF  1992-12-31  "
      ]
     },
     "execution_count": 8,
     "metadata": {},
     "output_type": "execute_result"
    }
   ],
   "source": [
    "# Loading Data\n",
    "fifa_rankings_url = 'https://raw.githubusercontent.com/anc002/ds3000project/main/fifa_ranking-2023-07-20.csv'\n",
    "fifa_rankings_df = pd.read_csv(fifa_rankings_url)\n",
    "\n",
    "# Checking to see if data is loaded\n",
    "fifa_rankings_df.head()"
   ]
  },
  {
   "cell_type": "code",
   "execution_count": 9,
   "metadata": {
    "colab": {
     "base_uri": "https://localhost:8080/"
    },
    "id": "_cL7ewd-ZMDk",
    "outputId": "e0237706-2605-4dcb-9f5b-187f728792a2"
   },
   "outputs": [
    {
     "name": "stdout",
     "output_type": "stream",
     "text": [
      "<class 'pandas.core.frame.DataFrame'>\n",
      "RangeIndex: 64757 entries, 0 to 64756\n",
      "Data columns (total 8 columns):\n",
      " #   Column           Non-Null Count  Dtype  \n",
      "---  ------           --------------  -----  \n",
      " 0   rank             64757 non-null  int64  \n",
      " 1   country_full     64757 non-null  object \n",
      " 2   country_abrv     64757 non-null  object \n",
      " 3   total_points     64757 non-null  float64\n",
      " 4   previous_points  64757 non-null  float64\n",
      " 5   rank_change      64757 non-null  int64  \n",
      " 6   confederation    64757 non-null  object \n",
      " 7   rank_date        64757 non-null  object \n",
      "dtypes: float64(2), int64(2), object(4)\n",
      "memory usage: 4.0+ MB\n"
     ]
    }
   ],
   "source": [
    "# Get an understanding of the Data\n",
    "fifa_rankings_df.info()"
   ]
  },
  {
   "cell_type": "markdown",
   "metadata": {
    "id": "OagmGkeI-gxM"
   },
   "source": [
    "**Cleaning & Filtering Data**"
   ]
  },
  {
   "cell_type": "code",
   "execution_count": 10,
   "metadata": {
    "colab": {
     "base_uri": "https://localhost:8080/",
     "height": 0
    },
    "id": "CiWoDjip8u8G",
    "outputId": "0d1c571b-2168-4c7a-df28-704abe030722"
   },
   "outputs": [
    {
     "data": {
      "text/html": [
       "<div>\n",
       "<style scoped>\n",
       "    .dataframe tbody tr th:only-of-type {\n",
       "        vertical-align: middle;\n",
       "    }\n",
       "\n",
       "    .dataframe tbody tr th {\n",
       "        vertical-align: top;\n",
       "    }\n",
       "\n",
       "    .dataframe thead th {\n",
       "        text-align: right;\n",
       "    }\n",
       "</style>\n",
       "<table border=\"1\" class=\"dataframe\">\n",
       "  <thead>\n",
       "    <tr style=\"text-align: right;\">\n",
       "      <th></th>\n",
       "      <th>rank</th>\n",
       "      <th>country_full</th>\n",
       "      <th>country_abrv</th>\n",
       "      <th>total_points</th>\n",
       "      <th>previous_points</th>\n",
       "      <th>rank_change</th>\n",
       "      <th>confederation</th>\n",
       "      <th>rank_date</th>\n",
       "    </tr>\n",
       "  </thead>\n",
       "  <tbody>\n",
       "    <tr>\n",
       "      <th>45452</th>\n",
       "      <td>127</td>\n",
       "      <td>Philippines</td>\n",
       "      <td>PHI</td>\n",
       "      <td>219.0</td>\n",
       "      <td>219.0</td>\n",
       "      <td>0</td>\n",
       "      <td>AFC</td>\n",
       "      <td>2014-01-16</td>\n",
       "    </tr>\n",
       "    <tr>\n",
       "      <th>45453</th>\n",
       "      <td>123</td>\n",
       "      <td>Lebanon</td>\n",
       "      <td>LIB</td>\n",
       "      <td>236.0</td>\n",
       "      <td>249.0</td>\n",
       "      <td>2</td>\n",
       "      <td>AFC</td>\n",
       "      <td>2014-01-16</td>\n",
       "    </tr>\n",
       "    <tr>\n",
       "      <th>45454</th>\n",
       "      <td>124</td>\n",
       "      <td>Burundi</td>\n",
       "      <td>BDI</td>\n",
       "      <td>230.0</td>\n",
       "      <td>239.0</td>\n",
       "      <td>0</td>\n",
       "      <td>CAF</td>\n",
       "      <td>2014-01-16</td>\n",
       "    </tr>\n",
       "    <tr>\n",
       "      <th>45455</th>\n",
       "      <td>125</td>\n",
       "      <td>Cyprus</td>\n",
       "      <td>CYP</td>\n",
       "      <td>229.0</td>\n",
       "      <td>229.0</td>\n",
       "      <td>-1</td>\n",
       "      <td>UEFA</td>\n",
       "      <td>2014-01-16</td>\n",
       "    </tr>\n",
       "    <tr>\n",
       "      <th>45456</th>\n",
       "      <td>125</td>\n",
       "      <td>Namibia</td>\n",
       "      <td>NAM</td>\n",
       "      <td>229.0</td>\n",
       "      <td>237.0</td>\n",
       "      <td>0</td>\n",
       "      <td>CAF</td>\n",
       "      <td>2014-01-16</td>\n",
       "    </tr>\n",
       "  </tbody>\n",
       "</table>\n",
       "</div>"
      ],
      "text/plain": [
       "       rank country_full country_abrv  total_points  previous_points  \\\n",
       "45452   127  Philippines          PHI         219.0            219.0   \n",
       "45453   123      Lebanon          LIB         236.0            249.0   \n",
       "45454   124      Burundi          BDI         230.0            239.0   \n",
       "45455   125       Cyprus          CYP         229.0            229.0   \n",
       "45456   125      Namibia          NAM         229.0            237.0   \n",
       "\n",
       "       rank_change confederation  rank_date  \n",
       "45452            0           AFC 2014-01-16  \n",
       "45453            2           AFC 2014-01-16  \n",
       "45454            0           CAF 2014-01-16  \n",
       "45455           -1          UEFA 2014-01-16  \n",
       "45456            0           CAF 2014-01-16  "
      ]
     },
     "execution_count": 10,
     "metadata": {},
     "output_type": "execute_result"
    }
   ],
   "source": [
    "# Convert 'rank_date' column todatetime\n",
    "fifa_rankings_df['rank_date'] = pd.to_datetime(fifa_rankings_df['rank_date'])\n",
    "\n",
    "# Filter data from 2014 onwards to be consistent with other dataset\n",
    "fifa_rankings_df = fifa_rankings_df[fifa_rankings_df['rank_date'] >= '2014-01-01']\n",
    "\n",
    "# Replace country names\n",
    "fifa_rankings_df.replace({'country_full': {'Czech Republic': 'Czechia'}}, inplace=True)\n",
    "fifa_rankings_df.head()\n"
   ]
  },
  {
   "cell_type": "markdown",
   "metadata": {
    "id": "DquLdiu8CCQX"
   },
   "source": [
    "We need to filter Home and Away teams for countries that have qualified to play in the UEFA Euro 2024, since there are three teams out of twelve yet to be chosen as of 28th February through play-offs, those teams will be included for now as well.\n",
    "\n",
    "https://www.uefa.com/euro2024/draws/\n",
    "\n",
    "https://www.uefa.com/european-qualifiers/news/0279-1635c1adf4c0-831ffc150fff-1000--euro-2024-play-offs-how-they-work-state-of-play/\n",
    "\n",
    "---\n",
    "\n",
    "It is important to note that Czechia has recently changed its name from the\n",
    "\n",
    "Czech Republic, in order to make sure that the data is consistent, all instances of the Czech Republic will be changed to Czechia\n",
    "\n",
    "https://www.timeout.com/news/the-czech-republic-is-changing-its-name-heres-why-022123"
   ]
  },
  {
   "cell_type": "code",
   "execution_count": 11,
   "metadata": {
    "colab": {
     "base_uri": "https://localhost:8080/"
    },
    "id": "WInjmSk1EJd1",
    "outputId": "ba0a042f-2029-4963-a15b-f9e1f8005f2d"
   },
   "outputs": [
    {
     "name": "stdout",
     "output_type": "stream",
     "text": [
      "Number of Teams: 33\n"
     ]
    }
   ],
   "source": [
    "# Filter data for UEFA 2024 teams\n",
    "fifa_rankings_df = fifa_rankings_df[(fifa_rankings_df['country_full'].isin(uefa_2024_teams))]\n",
    "\n",
    "# Making sure results are consistent\n",
    "print(f\"Number of Teams: {len(fifa_rankings_df['country_full'].unique())}\")"
   ]
  },
  {
   "cell_type": "code",
   "execution_count": 12,
   "metadata": {
    "colab": {
     "base_uri": "https://localhost:8080/"
    },
    "id": "J3ylOOxwJzNO",
    "outputId": "b6d1f3d5-09eb-40c2-852b-0459158ce17c"
   },
   "outputs": [
    {
     "name": "stdout",
     "output_type": "stream",
     "text": [
      "No null values in the Data Set\n"
     ]
    }
   ],
   "source": [
    "# Check for null values\n",
    "null_counts = fifa_rankings_df.isnull().sum()\n",
    "\n",
    "# If there are no null values, print 'No null values'\n",
    "if null_counts.sum() == 0:\n",
    "    print(\"No null values in the Data Set\")\n",
    "else:\n",
    "    # If there are null values, print number of null values in each column\n",
    "    print(\"Number of null values in each column:\")\n",
    "    print(null_counts)"
   ]
  },
  {
   "cell_type": "code",
   "execution_count": 13,
   "metadata": {
    "colab": {
     "base_uri": "https://localhost:8080/"
    },
    "id": "qvTQ6IORHTLQ",
    "outputId": "92571015-e2dd-40a7-ce45-cdc9d09e327f"
   },
   "outputs": [
    {
     "name": "stdout",
     "output_type": "stream",
     "text": [
      "<class 'pandas.core.frame.DataFrame'>\n",
      "Index: 3064 entries, 45457 to 64753\n",
      "Data columns (total 8 columns):\n",
      " #   Column           Non-Null Count  Dtype         \n",
      "---  ------           --------------  -----         \n",
      " 0   rank             3064 non-null   int64         \n",
      " 1   country_full     3064 non-null   category      \n",
      " 2   country_abrv     3064 non-null   category      \n",
      " 3   total_points     3064 non-null   float64       \n",
      " 4   previous_points  3064 non-null   float64       \n",
      " 5   rank_change      3064 non-null   int64         \n",
      " 6   confederation    3064 non-null   category      \n",
      " 7   rank_date        3064 non-null   datetime64[ns]\n",
      "dtypes: category(3), datetime64[ns](1), float64(2), int64(2)\n",
      "memory usage: 155.3 KB\n"
     ]
    }
   ],
   "source": [
    "# Changing data types\n",
    "fifa_rankings_df['country_full'] = fifa_rankings_df['country_full'].astype('category')\n",
    "fifa_rankings_df['country_abrv'] = fifa_rankings_df['country_abrv'].astype('category')\n",
    "fifa_rankings_df['confederation'] = fifa_rankings_df['confederation'].astype('category')\n",
    "\n",
    "# View Datatype Changes\n",
    "fifa_rankings_df.info()"
   ]
  },
  {
   "cell_type": "markdown",
   "metadata": {
    "id": "-vVZAr88yNu2"
   },
   "source": [
    "Changing data types to suitable data types:\n",
    "- country_full, country_abrv and confederation as categorical data"
   ]
  },
  {
   "cell_type": "markdown",
   "metadata": {
    "id": "p8M1L9RoZxVl"
   },
   "source": [
    "## **Merging Data**"
   ]
  },
  {
   "cell_type": "markdown",
   "metadata": {
    "id": "D2f45lT9RtCj"
   },
   "source": [
    "Now the dataset with rankings data will be merged to the results_data to include data regarding the ranks of the home and away team in each match"
   ]
  },
  {
   "cell_type": "code",
   "execution_count": 14,
   "metadata": {
    "colab": {
     "base_uri": "https://localhost:8080/",
     "height": 0
    },
    "id": "iO_wSxFNNOuK",
    "outputId": "4f416823-0ab7-47fe-d106-1bc93b5f39fc"
   },
   "outputs": [
    {
     "data": {
      "text/html": [
       "<div>\n",
       "<style scoped>\n",
       "    .dataframe tbody tr th:only-of-type {\n",
       "        vertical-align: middle;\n",
       "    }\n",
       "\n",
       "    .dataframe tbody tr th {\n",
       "        vertical-align: top;\n",
       "    }\n",
       "\n",
       "    .dataframe thead th {\n",
       "        text-align: right;\n",
       "    }\n",
       "</style>\n",
       "<table border=\"1\" class=\"dataframe\">\n",
       "  <thead>\n",
       "    <tr style=\"text-align: right;\">\n",
       "      <th></th>\n",
       "      <th>date</th>\n",
       "      <th>home_team</th>\n",
       "      <th>away_team</th>\n",
       "      <th>home_score</th>\n",
       "      <th>away_score</th>\n",
       "      <th>tournament</th>\n",
       "      <th>city</th>\n",
       "      <th>country</th>\n",
       "      <th>neutral</th>\n",
       "      <th>home_team_rank</th>\n",
       "      <th>...</th>\n",
       "      <th>rank_change_home</th>\n",
       "      <th>confederation_home</th>\n",
       "      <th>rank_date_home</th>\n",
       "      <th>away_team_rank</th>\n",
       "      <th>country_abrv_away</th>\n",
       "      <th>total_points_away</th>\n",
       "      <th>previous_points_away</th>\n",
       "      <th>rank_change_away</th>\n",
       "      <th>confederation_away</th>\n",
       "      <th>rank_date_away</th>\n",
       "    </tr>\n",
       "  </thead>\n",
       "  <tbody>\n",
       "    <tr>\n",
       "      <th>0</th>\n",
       "      <td>2014-03-05</td>\n",
       "      <td>England</td>\n",
       "      <td>Denmark</td>\n",
       "      <td>1</td>\n",
       "      <td>0</td>\n",
       "      <td>Friendly</td>\n",
       "      <td>London</td>\n",
       "      <td>England</td>\n",
       "      <td>False</td>\n",
       "      <td>15</td>\n",
       "      <td>...</td>\n",
       "      <td>2</td>\n",
       "      <td>UEFA</td>\n",
       "      <td>2014-02-13</td>\n",
       "      <td>20</td>\n",
       "      <td>DEN</td>\n",
       "      <td>907.0</td>\n",
       "      <td>831.0</td>\n",
       "      <td>-5</td>\n",
       "      <td>UEFA</td>\n",
       "      <td>2014-02-13</td>\n",
       "    </tr>\n",
       "    <tr>\n",
       "      <th>1</th>\n",
       "      <td>2014-03-05</td>\n",
       "      <td>France</td>\n",
       "      <td>Netherlands</td>\n",
       "      <td>2</td>\n",
       "      <td>0</td>\n",
       "      <td>Friendly</td>\n",
       "      <td>Saint-Denis</td>\n",
       "      <td>France</td>\n",
       "      <td>False</td>\n",
       "      <td>18</td>\n",
       "      <td>...</td>\n",
       "      <td>-2</td>\n",
       "      <td>UEFA</td>\n",
       "      <td>2014-02-13</td>\n",
       "      <td>10</td>\n",
       "      <td>NED</td>\n",
       "      <td>1122.0</td>\n",
       "      <td>1106.0</td>\n",
       "      <td>1</td>\n",
       "      <td>UEFA</td>\n",
       "      <td>2014-02-13</td>\n",
       "    </tr>\n",
       "    <tr>\n",
       "      <th>2</th>\n",
       "      <td>2014-03-05</td>\n",
       "      <td>Hungary</td>\n",
       "      <td>Finland</td>\n",
       "      <td>1</td>\n",
       "      <td>2</td>\n",
       "      <td>Friendly</td>\n",
       "      <td>Győr</td>\n",
       "      <td>Hungary</td>\n",
       "      <td>False</td>\n",
       "      <td>44</td>\n",
       "      <td>...</td>\n",
       "      <td>-2</td>\n",
       "      <td>UEFA</td>\n",
       "      <td>2014-02-13</td>\n",
       "      <td>65</td>\n",
       "      <td>FIN</td>\n",
       "      <td>540.0</td>\n",
       "      <td>539.0</td>\n",
       "      <td>-1</td>\n",
       "      <td>UEFA</td>\n",
       "      <td>2014-02-13</td>\n",
       "    </tr>\n",
       "    <tr>\n",
       "      <th>3</th>\n",
       "      <td>2014-03-05</td>\n",
       "      <td>Israel</td>\n",
       "      <td>Slovakia</td>\n",
       "      <td>1</td>\n",
       "      <td>3</td>\n",
       "      <td>Friendly</td>\n",
       "      <td>Netanya</td>\n",
       "      <td>Israel</td>\n",
       "      <td>False</td>\n",
       "      <td>56</td>\n",
       "      <td>...</td>\n",
       "      <td>-7</td>\n",
       "      <td>UEFA</td>\n",
       "      <td>2014-02-13</td>\n",
       "      <td>54</td>\n",
       "      <td>SVK</td>\n",
       "      <td>574.0</td>\n",
       "      <td>557.0</td>\n",
       "      <td>-6</td>\n",
       "      <td>UEFA</td>\n",
       "      <td>2014-02-13</td>\n",
       "    </tr>\n",
       "    <tr>\n",
       "      <th>4</th>\n",
       "      <td>2014-03-05</td>\n",
       "      <td>Poland</td>\n",
       "      <td>Scotland</td>\n",
       "      <td>0</td>\n",
       "      <td>1</td>\n",
       "      <td>Friendly</td>\n",
       "      <td>Warsaw</td>\n",
       "      <td>Poland</td>\n",
       "      <td>False</td>\n",
       "      <td>70</td>\n",
       "      <td>...</td>\n",
       "      <td>-7</td>\n",
       "      <td>UEFA</td>\n",
       "      <td>2014-02-13</td>\n",
       "      <td>34</td>\n",
       "      <td>SCO</td>\n",
       "      <td>742.0</td>\n",
       "      <td>717.0</td>\n",
       "      <td>-3</td>\n",
       "      <td>UEFA</td>\n",
       "      <td>2014-02-13</td>\n",
       "    </tr>\n",
       "  </tbody>\n",
       "</table>\n",
       "<p>5 rows × 23 columns</p>\n",
       "</div>"
      ],
      "text/plain": [
       "        date home_team    away_team  home_score  away_score tournament  \\\n",
       "0 2014-03-05   England      Denmark           1           0   Friendly   \n",
       "1 2014-03-05    France  Netherlands           2           0   Friendly   \n",
       "2 2014-03-05   Hungary      Finland           1           2   Friendly   \n",
       "3 2014-03-05    Israel     Slovakia           1           3   Friendly   \n",
       "4 2014-03-05    Poland     Scotland           0           1   Friendly   \n",
       "\n",
       "          city  country  neutral  home_team_rank  ... rank_change_home  \\\n",
       "0       London  England    False              15  ...                2   \n",
       "1  Saint-Denis   France    False              18  ...               -2   \n",
       "2         Győr  Hungary    False              44  ...               -2   \n",
       "3      Netanya   Israel    False              56  ...               -7   \n",
       "4       Warsaw   Poland    False              70  ...               -7   \n",
       "\n",
       "   confederation_home  rank_date_home  away_team_rank country_abrv_away  \\\n",
       "0                UEFA      2014-02-13              20               DEN   \n",
       "1                UEFA      2014-02-13              10               NED   \n",
       "2                UEFA      2014-02-13              65               FIN   \n",
       "3                UEFA      2014-02-13              54               SVK   \n",
       "4                UEFA      2014-02-13              34               SCO   \n",
       "\n",
       "  total_points_away  previous_points_away rank_change_away  \\\n",
       "0             907.0                 831.0               -5   \n",
       "1            1122.0                1106.0                1   \n",
       "2             540.0                 539.0               -1   \n",
       "3             574.0                 557.0               -6   \n",
       "4             742.0                 717.0               -3   \n",
       "\n",
       "   confederation_away  rank_date_away  \n",
       "0                UEFA      2014-02-13  \n",
       "1                UEFA      2014-02-13  \n",
       "2                UEFA      2014-02-13  \n",
       "3                UEFA      2014-02-13  \n",
       "4                UEFA      2014-02-13  \n",
       "\n",
       "[5 rows x 23 columns]"
      ]
     },
     "execution_count": 14,
     "metadata": {},
     "output_type": "execute_result"
    }
   ],
   "source": [
    "# Sorting DataFrames appropriately\n",
    "fifa_rankings_df = fifa_rankings_df.sort_values('rank_date')\n",
    "fifa_results_df = fifa_results_df.sort_values('date')\n",
    "\n",
    "# Renaming columns consistently for both home and away rankings DataFrames\n",
    "fifa_home_rankings = fifa_rankings_df.rename(\n",
    "    columns={\n",
    "        'country_full': 'home_team',\n",
    "        'rank': 'home_team_rank',\n",
    "        'country_abrv': 'country_abrv_home',\n",
    "        'total_points': 'total_points_home',\n",
    "        'previous_points': 'previous_points_home',\n",
    "        'rank_change': 'rank_change_home',\n",
    "        'confederation': 'confederation_home',\n",
    "        'rank_date': 'rank_date_home'\n",
    "    })\n",
    "\n",
    "fifa_away_rankings = fifa_rankings_df.rename(\n",
    "    columns={\n",
    "        'country_full': 'away_team',\n",
    "        'rank': 'away_team_rank',\n",
    "        'country_abrv': 'country_abrv_away',\n",
    "        'total_points': 'total_points_away',\n",
    "        'previous_points': 'previous_points_away',\n",
    "        'rank_change': 'rank_change_away',\n",
    "        'confederation': 'confederation_away',\n",
    "        'rank_date': 'rank_date_away'\n",
    "    })\n",
    "\n",
    "# Performing an asof merge to associate each home team's match with its closest preceding ranking before the match date\n",
    "merged_with_home_rankings = pd.merge_asof(\n",
    "    fifa_results_df,\n",
    "    fifa_home_rankings,\n",
    "    by='home_team',\n",
    "    left_on='date',\n",
    "    right_on='rank_date_home')\n",
    "\n",
    "# Performing an asof merge to associate each home team's match with its closest preceding ranking before the match date\n",
    "merged_with_away_rankings = pd.merge_asof(\n",
    "    merged_with_home_rankings,\n",
    "    fifa_away_rankings,\n",
    "    by='away_team',\n",
    "    left_on='date',\n",
    "    right_on='rank_date_away')\n",
    "\n",
    "# Renaming the DataFrame to UEFA_df\n",
    "UEFA_df = merged_with_away_rankings\n",
    "\n",
    "# View Chanes\n",
    "UEFA_df.head()"
   ]
  },
  {
   "cell_type": "code",
   "execution_count": 15,
   "metadata": {
    "colab": {
     "base_uri": "https://localhost:8080/",
     "height": 0
    },
    "id": "3NVXYVR2mMH6",
    "outputId": "45b54204-43f5-4da8-8937-6278b6f63a07"
   },
   "outputs": [
    {
     "data": {
      "text/html": [
       "<div>\n",
       "<style scoped>\n",
       "    .dataframe tbody tr th:only-of-type {\n",
       "        vertical-align: middle;\n",
       "    }\n",
       "\n",
       "    .dataframe tbody tr th {\n",
       "        vertical-align: top;\n",
       "    }\n",
       "\n",
       "    .dataframe thead th {\n",
       "        text-align: right;\n",
       "    }\n",
       "</style>\n",
       "<table border=\"1\" class=\"dataframe\">\n",
       "  <thead>\n",
       "    <tr style=\"text-align: right;\">\n",
       "      <th></th>\n",
       "      <th>date</th>\n",
       "      <th>home_team</th>\n",
       "      <th>away_team</th>\n",
       "      <th>home_score</th>\n",
       "      <th>away_score</th>\n",
       "      <th>tournament</th>\n",
       "      <th>country</th>\n",
       "      <th>neutral</th>\n",
       "      <th>home_team_rank</th>\n",
       "      <th>total_points_home</th>\n",
       "      <th>previous_points_home</th>\n",
       "      <th>rank_change_home</th>\n",
       "      <th>away_team_rank</th>\n",
       "      <th>total_points_away</th>\n",
       "      <th>previous_points_away</th>\n",
       "      <th>rank_change_away</th>\n",
       "    </tr>\n",
       "  </thead>\n",
       "  <tbody>\n",
       "    <tr>\n",
       "      <th>0</th>\n",
       "      <td>2014-03-05</td>\n",
       "      <td>England</td>\n",
       "      <td>Denmark</td>\n",
       "      <td>1</td>\n",
       "      <td>0</td>\n",
       "      <td>Friendly</td>\n",
       "      <td>England</td>\n",
       "      <td>False</td>\n",
       "      <td>15</td>\n",
       "      <td>1032.0</td>\n",
       "      <td>1041.0</td>\n",
       "      <td>2</td>\n",
       "      <td>20</td>\n",
       "      <td>907.0</td>\n",
       "      <td>831.0</td>\n",
       "      <td>-5</td>\n",
       "    </tr>\n",
       "    <tr>\n",
       "      <th>1</th>\n",
       "      <td>2014-03-05</td>\n",
       "      <td>France</td>\n",
       "      <td>Netherlands</td>\n",
       "      <td>2</td>\n",
       "      <td>0</td>\n",
       "      <td>Friendly</td>\n",
       "      <td>France</td>\n",
       "      <td>False</td>\n",
       "      <td>18</td>\n",
       "      <td>917.0</td>\n",
       "      <td>893.0</td>\n",
       "      <td>-2</td>\n",
       "      <td>10</td>\n",
       "      <td>1122.0</td>\n",
       "      <td>1106.0</td>\n",
       "      <td>1</td>\n",
       "    </tr>\n",
       "    <tr>\n",
       "      <th>2</th>\n",
       "      <td>2014-03-05</td>\n",
       "      <td>Hungary</td>\n",
       "      <td>Finland</td>\n",
       "      <td>1</td>\n",
       "      <td>2</td>\n",
       "      <td>Friendly</td>\n",
       "      <td>Hungary</td>\n",
       "      <td>False</td>\n",
       "      <td>44</td>\n",
       "      <td>673.0</td>\n",
       "      <td>668.0</td>\n",
       "      <td>-2</td>\n",
       "      <td>65</td>\n",
       "      <td>540.0</td>\n",
       "      <td>539.0</td>\n",
       "      <td>-1</td>\n",
       "    </tr>\n",
       "    <tr>\n",
       "      <th>3</th>\n",
       "      <td>2014-03-05</td>\n",
       "      <td>Israel</td>\n",
       "      <td>Slovakia</td>\n",
       "      <td>1</td>\n",
       "      <td>3</td>\n",
       "      <td>Friendly</td>\n",
       "      <td>Israel</td>\n",
       "      <td>False</td>\n",
       "      <td>56</td>\n",
       "      <td>570.0</td>\n",
       "      <td>548.0</td>\n",
       "      <td>-7</td>\n",
       "      <td>54</td>\n",
       "      <td>574.0</td>\n",
       "      <td>557.0</td>\n",
       "      <td>-6</td>\n",
       "    </tr>\n",
       "    <tr>\n",
       "      <th>4</th>\n",
       "      <td>2014-03-05</td>\n",
       "      <td>Poland</td>\n",
       "      <td>Scotland</td>\n",
       "      <td>0</td>\n",
       "      <td>1</td>\n",
       "      <td>Friendly</td>\n",
       "      <td>Poland</td>\n",
       "      <td>False</td>\n",
       "      <td>70</td>\n",
       "      <td>494.0</td>\n",
       "      <td>461.0</td>\n",
       "      <td>-7</td>\n",
       "      <td>34</td>\n",
       "      <td>742.0</td>\n",
       "      <td>717.0</td>\n",
       "      <td>-3</td>\n",
       "    </tr>\n",
       "  </tbody>\n",
       "</table>\n",
       "</div>"
      ],
      "text/plain": [
       "        date home_team    away_team  home_score  away_score tournament  \\\n",
       "0 2014-03-05   England      Denmark           1           0   Friendly   \n",
       "1 2014-03-05    France  Netherlands           2           0   Friendly   \n",
       "2 2014-03-05   Hungary      Finland           1           2   Friendly   \n",
       "3 2014-03-05    Israel     Slovakia           1           3   Friendly   \n",
       "4 2014-03-05    Poland     Scotland           0           1   Friendly   \n",
       "\n",
       "   country  neutral  home_team_rank  total_points_home  previous_points_home  \\\n",
       "0  England    False              15             1032.0                1041.0   \n",
       "1   France    False              18              917.0                 893.0   \n",
       "2  Hungary    False              44              673.0                 668.0   \n",
       "3   Israel    False              56              570.0                 548.0   \n",
       "4   Poland    False              70              494.0                 461.0   \n",
       "\n",
       "   rank_change_home  away_team_rank  total_points_away  previous_points_away  \\\n",
       "0                 2              20              907.0                 831.0   \n",
       "1                -2              10             1122.0                1106.0   \n",
       "2                -2              65              540.0                 539.0   \n",
       "3                -7              54              574.0                 557.0   \n",
       "4                -7              34              742.0                 717.0   \n",
       "\n",
       "   rank_change_away  \n",
       "0                -5  \n",
       "1                 1  \n",
       "2                -1  \n",
       "3                -6  \n",
       "4                -3  "
      ]
     },
     "execution_count": 15,
     "metadata": {},
     "output_type": "execute_result"
    }
   ],
   "source": [
    "# Dropping redundant columns and columns that are unlikely to be useful\n",
    "columns_to_drop = ['city', 'country_abrv_home', 'country_abrv_away', 'confederation_home', 'confederation_away', 'rank_date_home', 'rank_date_away']\n",
    "UEFA_df.drop(columns=columns_to_drop, inplace=True, errors='ignore')\n",
    "\n",
    "UEFA_df.head()\n"
   ]
  },
  {
   "cell_type": "markdown",
   "metadata": {
    "id": "SObf7ar9yjFz"
   },
   "source": [
    "We are dropping several columns that will not be useful or redundant such as:\n",
    "city, country_abrv_home, country_abrv_away, confederation_home, confederation_away, rank_date_home, rank_date_away\n",
    "\n",
    "- City is being dropped as the country column is enough to know if the game is home or away\n",
    "- country_abrv is being dropped for home and away as we already have the columns home_team and away_team\n",
    "- confederation_name is being dropped for home and away as all teams are under UEFA\n",
    "- rank_date is being dropped for home and away as all teams are ranked by FIFA at the same time"
   ]
  },
  {
   "cell_type": "code",
   "execution_count": 16,
   "metadata": {
    "colab": {
     "base_uri": "https://localhost:8080/"
    },
    "id": "EkfdFd3WK4nQ",
    "outputId": "bf1924bd-1357-4e5d-fec4-598027242c9c"
   },
   "outputs": [
    {
     "name": "stdout",
     "output_type": "stream",
     "text": [
      "No null values in the Data Set\n"
     ]
    }
   ],
   "source": [
    "# Check for null values\n",
    "null_counts = UEFA_df.isnull().sum()\n",
    "\n",
    "# If there are no null values, print 'No null values'\n",
    "if null_counts.sum() == 0:\n",
    "    print(\"No null values in the Data Set\")\n",
    "else:\n",
    "    # If there are null values, print number of null values in each column\n",
    "    print(\"Number of null values in each column:\")\n",
    "    print(null_counts)"
   ]
  },
  {
   "cell_type": "markdown",
   "metadata": {
    "id": "tvC92lbgHrsf"
   },
   "source": [
    "# **Analysis**"
   ]
  },
  {
   "cell_type": "markdown",
   "metadata": {
    "id": "JuY168jd1RlW"
   },
   "source": [
    "**Match Outcomes by Team Rank Difference**"
   ]
  },
  {
   "cell_type": "code",
   "execution_count": 17,
   "metadata": {
    "colab": {
     "base_uri": "https://localhost:8080/",
     "height": 0
    },
    "id": "DuG9XWE7TXev",
    "outputId": "62260f18-60ef-4723-994c-4112dd19d1e5"
   },
   "outputs": [
    {
     "data": {
      "image/png": "[encoded data removed]",
      "text/plain": [
       "<Figure size 1000x600 with 1 Axes>"
      ]
     },
     "metadata": {},
     "output_type": "display_data"
    }
   ],
   "source": [
    "import matplotlib.pyplot as plt\n",
    "import seaborn as sns\n",
    "\n",
    "# Adding a column to indicate if the home team is higher ranked than the away team\n",
    "UEFA_df['home_rank_higher'] = UEFA_df['home_team_rank'] < UEFA_df['away_team_rank']\n",
    "\n",
    "# Determining match outcome\n",
    "def match_outcome(row):\n",
    "    if row['home_score'] > row['away_score']:\n",
    "        return 'Home Win'\n",
    "    elif row['home_score'] < row['away_score']:\n",
    "        return 'Away Win'\n",
    "    else:\n",
    "        return 'Draw'\n",
    "\n",
    "UEFA_df['outcome'] = UEFA_df.apply(match_outcome, axis=1)\n",
    "\n",
    "# Visualizing outcomes by team ranks\n",
    "plt.figure(figsize=(10, 6))\n",
    "sns.countplot(x='home_rank_higher', hue='outcome', data=UEFA_df)\n",
    "plt.title('Match Outcomes by Team Rank Difference')\n",
    "plt.xlabel('Is Home Team Higher Ranked?')\n",
    "plt.ylabel('Number of Matches')\n",
    "plt.legend(title='Match Outcome')\n",
    "plt.show()\n"
   ]
  },
  {
   "cell_type": "markdown",
   "metadata": {
    "id": "IsCFTdFXz5L5"
   },
   "source": [
    "Explanation: This chart indicates that when the home team is higher-ranked, there are singificantly more home wins, and when the home team is not high-ranked, away wins are more frequent with a large number of draws as well"
   ]
  },
  {
   "cell_type": "markdown",
   "metadata": {
    "id": "qTkt00GM1f_g"
   },
   "source": [
    "**Match Outcomes by Points Difference**"
   ]
  },
  {
   "cell_type": "code",
   "execution_count": 18,
   "metadata": {
    "colab": {
     "base_uri": "https://localhost:8080/",
     "height": 0
    },
    "id": "G8rn4Ec31PzM",
    "outputId": "39cf0aec-65f5-4728-8e53-890a34a9ba99"
   },
   "outputs": [
    {
     "data": {
      "image/png": "[encoded data removed]",
      "text/plain": [
       "<Figure size 1000x600 with 1 Axes>"
      ]
     },
     "metadata": {},
     "output_type": "display_data"
    }
   ],
   "source": [
    "# Calculating points difference\n",
    "UEFA_df['points_difference'] = abs(UEFA_df['total_points_home'] - UEFA_df['total_points_away'])\n",
    "\n",
    "# Categorizing points difference\n",
    "def categorize_points_difference(row):\n",
    "    if row['points_difference'] <= 100:\n",
    "        return 'Low'\n",
    "    elif row['points_difference'] <= 200:\n",
    "        return 'Medium'\n",
    "    else:\n",
    "        return 'High'\n",
    "\n",
    "UEFA_df['points_diff_category'] = UEFA_df.apply(categorize_points_difference, axis=1)\n",
    "\n",
    "# Visualizing outcomes by points difference\n",
    "plt.figure(figsize=(10, 6))\n",
    "sns.countplot(x='points_diff_category', hue='outcome', data=UEFA_df)\n",
    "plt.title('Match Outcomes by Points Difference')\n",
    "plt.xlabel('Points Difference Category')\n",
    "plt.ylabel('Number of Matches')\n",
    "plt.legend(title='Match Outcome')\n",
    "plt.show()\n"
   ]
  },
  {
   "cell_type": "markdown",
   "metadata": {
    "id": "BVYt6kYb0rAA"
   },
   "source": [
    "Explanation: This chart shows that a high points difference corresponds to more home wins, while a low points difference leads to a more even distribution of match outcomes, including away wins and draws."
   ]
  },
  {
   "cell_type": "markdown",
   "metadata": {
    "id": "RPHPhxfK3O69"
   },
   "source": [
    "**Heatmape Visualizing the Performance of Teams Against Each Other**"
   ]
  },
  {
   "cell_type": "code",
   "execution_count": 19,
   "metadata": {
    "colab": {
     "base_uri": "https://localhost:8080/",
     "height": 0
    },
    "id": "maun80Ii3W45",
    "outputId": "6bf64296-ed4f-4505-b3dd-b78b669e523c"
   },
   "outputs": [
    {
     "name": "stderr",
     "output_type": "stream",
     "text": [
      "/var/folders/dd/5hhztzc96t1717zrjlkk8nsh0000gn/T/ipykernel_90068/375149984.py:13: FutureWarning: The default value of observed=False is deprecated and will change to observed=True in a future version of pandas. Specify observed=False to silence this warning and retain the current behavior\n",
      "  outcome_matrix = pd.pivot_table(UEFA_df, values='numeric_outcome',\n",
      "/var/folders/dd/5hhztzc96t1717zrjlkk8nsh0000gn/T/ipykernel_90068/375149984.py:13: FutureWarning: The provided callable <function sum at 0x7f91f8197130> is currently using DataFrameGroupBy.sum. In a future version of pandas, the provided callable will be used directly. To keep current behavior pass the string \"sum\" instead.\n",
      "  outcome_matrix = pd.pivot_table(UEFA_df, values='numeric_outcome',\n"
     ]
    },
    {
     "data": {
      "image/png": "[encoded data removed]",
      "text/plain": [
       "<Figure size 2000x1500 with 2 Axes>"
      ]
     },
     "metadata": {},
     "output_type": "display_data"
    }
   ],
   "source": [
    "\n",
    "# Mapping match outcomes to numeric values\n",
    "def get_numeric_outcome(row):\n",
    "    if row['home_score'] > row['away_score']:\n",
    "        return 1  # Home win\n",
    "    elif row['home_score'] < row['away_score']:\n",
    "        return -1  # Home loss\n",
    "    else:\n",
    "        return 0  # Draw\n",
    "\n",
    "UEFA_df['numeric_outcome'] = UEFA_df.apply(get_numeric_outcome, axis=1)\n",
    "\n",
    "# Creating a DataFrame to hold the outcomes of matches between teams\n",
    "outcome_matrix = pd.pivot_table(UEFA_df, values='numeric_outcome',\n",
    "                                 index='home_team', columns='away_team',\n",
    "                                 aggfunc=np.sum, fill_value=0)\n",
    "\n",
    "\n",
    "# Since we're aggregating outcomes, our matrix is already set with +1, 0, and -1 values representing win, draw, and loss.\n",
    "\n",
    "# Step 3:  the heatmap\n",
    "plt.figure(figsize=(20, 15))\n",
    "sns.heatmap(outcome_matrix, annot=True, cmap='coolwarm', fmt=\"d\", linewidths=.5)\n",
    "plt.title('Heatmap of Team Performance')\n",
    "plt.xlabel('Away Team')\n",
    "plt.ylabel('Home Team')\n",
    "plt.show()"
   ]
  },
  {
   "cell_type": "markdown",
   "metadata": {
    "id": "tnwa0gwP3jw0"
   },
   "source": [
    "Explanation: This heatmap shows the performance of various national teams against each other, with the home teams listed on the y axis and the away teams on the x axis. Red indicates a higher score (better performance) and blue indicates a lower score (worse performance) for the home team against specific away teams. The results from the heatmap vary a lot."
   ]
  },
  {
   "cell_type": "markdown",
   "metadata": {
    "id": "wbYa2fYD35Z1"
   },
   "source": [
    "**Match Outcomes by Tournament Type**"
   ]
  },
  {
   "cell_type": "code",
   "execution_count": 20,
   "metadata": {
    "colab": {
     "base_uri": "https://localhost:8080/",
     "height": 0
    },
    "id": "lSNnMlP23hMD",
    "outputId": "4f6d4bfe-6fe3-4082-d6ef-3cef863d7313"
   },
   "outputs": [
    {
     "data": {
      "image/png": "[encoded data removed]",
      "text/plain": [
       "<Figure size 1200x800 with 1 Axes>"
      ]
     },
     "metadata": {},
     "output_type": "display_data"
    }
   ],
   "source": [
    "\n",
    "# Visualizing match outcomes by tournament type\n",
    "plt.figure(figsize=(12, 8))\n",
    "sns.countplot(y='tournament', hue='outcome', data=UEFA_df, palette='Set2')\n",
    "plt.title('Match Outcomes by Tournament Type')\n",
    "plt.xlabel('Number of Matches')\n",
    "plt.ylabel('Tournament')\n",
    "plt.legend(title='Match Outcome', loc='lower right')\n",
    "plt.tight_layout()\n",
    "plt.show()\n"
   ]
  },
  {
   "cell_type": "markdown",
   "metadata": {
    "id": "ZA2BPgIpadLT"
   },
   "source": [
    "Explanation: The bar chart compares the number of home wins, away wins, and draws across different types of football tournaments. It indicates that home wins are more common in friendly matches, whereas draws are relatively more frequent in UEFA Nations League games.\n",
    "\n",
    "\n",
    "\n",
    "\n",
    "\n",
    "\n"
   ]
  },
  {
   "cell_type": "markdown",
   "metadata": {
    "id": "GNyqv_IEZbfN"
   },
   "source": [
    "# **ML Tasks**"
   ]
  },
  {
   "cell_type": "markdown",
   "metadata": {
    "id": "_rbcm8QL22wI"
   },
   "source": [
    "## Random Forest Classifier\n",
    "\n",
    "Random Forest is an ensemble learning method that constructs a multitude of decision trees and outputs the mode of the classes (classification) of the individual trees.\n"
   ]
  },
  {
   "cell_type": "code",
   "execution_count": 21,
   "metadata": {
    "colab": {
     "base_uri": "https://localhost:8080/"
    },
    "id": "SM7hePgNmnmf",
    "outputId": "afa1f5ba-cde5-48d7-fa08-7009dc3ae377"
   },
   "outputs": [
    {
     "name": "stdout",
     "output_type": "stream",
     "text": [
      "              precision    recall  f1-score   support\n",
      "\n",
      "    Away Win       0.42      0.52      0.46        54\n",
      "        Draw       0.27      0.19      0.22        52\n",
      "    Home Win       0.55      0.56      0.56        98\n",
      "\n",
      "    accuracy                           0.46       204\n",
      "   macro avg       0.41      0.42      0.41       204\n",
      "weighted avg       0.44      0.46      0.45       204\n",
      "\n",
      "Best parameters: {'max_depth': 10, 'min_samples_leaf': 4, 'min_samples_split': 10, 'n_estimators': 100}\n",
      "Best score: 0.49753086419753084\n"
     ]
    }
   ],
   "source": [
    "from sklearn.model_selection import train_test_split, GridSearchCV\n",
    "from sklearn.ensemble import RandomForestClassifier\n",
    "from sklearn.metrics import accuracy_score, classification_report\n",
    "\n",
    "\n",
    "X = UEFA_df[['home_team_rank', 'away_team_rank', 'rank_change_home', 'rank_change_away']]\n",
    "y = UEFA_df['outcome']\n",
    "\n",
    "# Split data\n",
    "X_train, X_test, y_train, y_test = train_test_split(X, y, test_size=0.2, random_state=42)\n",
    "\n",
    "# Model training\n",
    "model = RandomForestClassifier(random_state=42)\n",
    "model.fit(X_train, y_train)\n",
    "\n",
    "# Model evaluation\n",
    "y_pred = model.predict(X_test)\n",
    "print(classification_report(y_test, y_pred))\n",
    "\n",
    "param_grid = {\n",
    "    'n_estimators': [100, 200, 300],  # Number of trees in the forest\n",
    "    'max_depth': [None, 10, 20, 30],  # Maximum depth of the tree\n",
    "    'min_samples_split': [2, 5, 10],  # Minimum number of samples required to split an internal node\n",
    "    'min_samples_leaf': [1, 2, 4]  # Minimum number of samples required to be at a leaf node\n",
    "}\n",
    "\n",
    "grid_search = GridSearchCV(estimator=model, param_grid=param_grid, cv=5, scoring='accuracy')\n",
    "grid_search.fit(X_train, y_train)\n",
    "\n",
    "# Best parameters and score\n",
    "print(\"Best parameters:\", grid_search.best_params_)\n",
    "print(\"Best score:\", grid_search.best_score_)\n",
    "\n"
   ]
  },
  {
   "cell_type": "markdown",
   "metadata": {
    "id": "wEOklxz3qdoZ"
   },
   "source": [
    "### Feature Selection"
   ]
  },
  {
   "cell_type": "markdown",
   "metadata": {
    "id": "_f4bnG5NN4pd"
   },
   "source": [
    "In order to improve the model's performance, we will both select more features from the dataset and also engineer more features in an attempt to improve performance"
   ]
  },
  {
   "cell_type": "code",
   "execution_count": 22,
   "metadata": {
    "id": "OVd8qHOnPdK7"
   },
   "outputs": [],
   "source": [
    "# Creating new features to represent the total points scored by each team in their last five matches\n",
    "# (3 points for a win, 1 for a draw, 0 for loss)\n",
    "\n",
    "UEFA_df['home_recent_points'] = 0\n",
    "UEFA_df['away_recent_points'] = 0\n",
    "\n",
    "def calculate_recent_points(row, team_type='home'):\n",
    "\n",
    "  '''Calculate the total performance score from the last 5 games for a specified team type'''\n",
    "\n",
    "    # Check whether home or away team is being used for this row\n",
    "  team = row['home_team'] if team_type == 'home' else row['away_team']\n",
    "\n",
    "    # Filter the dataframe for the last 5 matches of specified team\n",
    "  past_matches = UEFA_df[((UEFA_df['home_team'] == team) |\n",
    "   (UEFA_df['away_team'] == team)) &\n",
    "    (UEFA_df['date'] < row['date'])].tail(5)\n",
    "\n",
    "    # Initialize variable to keep track of recent points\n",
    "  recent_points = 0\n",
    "\n",
    "    # Go through last 5 matches to calculate recent points\n",
    "  for index, row in past_matches.iterrows():\n",
    "      if row['home_team'] == team:\n",
    "          if row['home_score'] > row['away_score']:\n",
    "              recent_points += 3\n",
    "          elif row['home_score'] == row['away_score']:\n",
    "              recent_points += 1\n",
    "      else:\n",
    "          if row['away_score'] > row['home_score']:\n",
    "              recent_points += 3\n",
    "          elif row['away_score'] == row['home_score']:\n",
    "              recent_points += 1\n",
    "  return recent_points\n",
    "\n",
    "# Apply the function to each row to calculate the score for home and away teams\n",
    "UEFA_df['home_recent_points'] = UEFA_df.apply(lambda row:\n",
    "                                            calculate_recent_points(row, 'home'),\n",
    "                                            axis=1)\n",
    "UEFA_df['away_recent_points'] = UEFA_df.apply(lambda row:\n",
    "                                            calculate_recent_points(row, 'away'),\n",
    "                                            axis=1)"
   ]
  },
  {
   "cell_type": "code",
   "execution_count": 23,
   "metadata": {
    "id": "Ypzu4IIZkbqZ"
   },
   "outputs": [],
   "source": [
    "# Add new features 'h2h_home_win', 'h2h_away_win', and 'h2h_draw' to store the number of\n",
    "# wins, losses, and draws between two teams in previous matches\n",
    "\n",
    "UEFA_df['h2h_home_win'] = 0\n",
    "UEFA_df['h2h_away_win'] = 0\n",
    "UEFA_df['h2h_draw'] = 0\n",
    "\n",
    "def calculate_h2h_performance(row):\n",
    "    \"\"\"Calculate head-to-head performance between two teams before the current match.\"\"\"\n",
    "\n",
    "    home_team = row['home_team']\n",
    "    away_team = row['away_team']\n",
    "\n",
    "    # Filter past amtches btween the current teams\n",
    "    past_matches = UEFA_df[((UEFA_df['home_team'] == home_team) & (UEFA_df['away_team'] == away_team)) |\n",
    "                           ((UEFA_df['home_team'] == away_team) & (UEFA_df['away_team'] == home_team)) &\n",
    "                           (UEFA_df['date'] < row['date'])]\n",
    "\n",
    "    # Initialize counters for each match outcome\n",
    "    home_win, away_win, draw = 0, 0, 0\n",
    "\n",
    "    # Outcomes from past matches\n",
    "    for index, row in past_matches.iterrows():\n",
    "        if row['home_score'] > row['away_score']:\n",
    "            if row['home_team'] == home_team:\n",
    "                home_win += 1\n",
    "            else:\n",
    "                away_win += 1\n",
    "        elif row['home_score'] < row['away_score']:\n",
    "            if row['home_team'] == home_team:\n",
    "                away_win += 1\n",
    "            else:\n",
    "                home_win += 1\n",
    "        else:\n",
    "            draw += 1\n",
    "\n",
    "    return home_win, away_win, draw\n",
    "\n",
    "# Calculate head-to-head metrics and store them in the dataframe to calculate the head-to-head performance metrics\n",
    "h2h_results = UEFA_df.apply(calculate_h2h_performance, axis=1)\n",
    "UEFA_df['h2h_home_win'], UEFA_df['h2h_away_win'], UEFA_df['h2h_draw'] = zip(*h2h_results)"
   ]
  },
  {
   "cell_type": "code",
   "execution_count": 24,
   "metadata": {
    "id": "CWye7oKAkz0l"
   },
   "outputs": [],
   "source": [
    "# Create new feature 'points_change' to find the change in FIFA rankings points for both home and away teams\n",
    "# They will be used as an indicator of the overall recent performance of the team\n",
    "UEFA_df['home_points_change'] = UEFA_df['total_points_home'] - UEFA_df['previous_points_home']\n",
    "UEFA_df['away_points_change'] = UEFA_df['total_points_away'] - UEFA_df['previous_points_away']\n",
    "\n",
    "# Calculate the difference in points change between home and away teams\n",
    "UEFA_df['points_change_difference'] = UEFA_df['home_points_change'] - UEFA_df['away_points_change']"
   ]
  },
  {
   "cell_type": "code",
   "execution_count": 25,
   "metadata": {
    "colab": {
     "base_uri": "https://localhost:8080/"
    },
    "id": "rP1e6qESk3AD",
    "outputId": "3be028a2-842c-4c2a-928e-7943e153b6d8"
   },
   "outputs": [
    {
     "name": "stdout",
     "output_type": "stream",
     "text": [
      "              precision    recall  f1-score   support\n",
      "\n",
      "    Away Win       0.74      0.63      0.68        54\n",
      "        Draw       0.65      0.60      0.62        52\n",
      "    Home Win       0.79      0.89      0.84        98\n",
      "\n",
      "    accuracy                           0.75       204\n",
      "   macro avg       0.73      0.70      0.71       204\n",
      "weighted avg       0.74      0.75      0.74       204\n",
      "\n",
      "Best parameters for Random Forest: {'max_depth': None, 'n_estimators': 200}\n",
      "Best score Random Forest: 0.7475497992880406\n"
     ]
    }
   ],
   "source": [
    "# Reimplementing the Random Forest model using new features\n",
    "X = UEFA_df[['home_team_rank', 'away_team_rank', 'home_recent_points',\n",
    "             'away_recent_points', 'points_difference', 'h2h_home_win',\n",
    "             'h2h_away_win', 'h2h_draw', 'points_change_difference']]\n",
    "y = UEFA_df['outcome']\n",
    "\n",
    "# Split the data into training and testing sets\n",
    "X_train, X_test, y_train, y_test = train_test_split(X, y, test_size=0.2, random_state=42)\n",
    "\n",
    "# Model training\n",
    "model = RandomForestClassifier(random_state=42)\n",
    "model.fit(X_train, y_train)\n",
    "\n",
    "# Model evaluation\n",
    "y_pred = model.predict(X_test)\n",
    "print(classification_report(y_test, y_pred))\n",
    "\n",
    "param_grid = {\n",
    "    'n_estimators': [100, 200, 300],  # Number of trees in the forest.\n",
    "    'max_depth': [None, 10, 20, 30],  # Maximum depth of the tree.\n",
    "}\n",
    "\n",
    "# Perform Grid Search\n",
    "grid_search = GridSearchCV(estimator=model, param_grid=param_grid, cv=5, scoring='accuracy')\n",
    "grid_search.fit(X_train, y_train)\n",
    "\n",
    "# Best parameters and score\n",
    "print(\"Best parameters for Random Forest:\", grid_search.best_params_)\n",
    "print(\"Best score Random Forest:\", grid_search.best_score_)"
   ]
  },
  {
   "cell_type": "markdown",
   "metadata": {
    "id": "PwATegsKue9W"
   },
   "source": [
    "Precision (How often the model is correct when it predicts a positive outcome):\n",
    "\n",
    "- Away Win: With a precision of 0.74, the model is quite accurate when predicting away wins, meaning it has a lower rate of false positives for this class.\n",
    "- Draw: A precision of 0.65 indicates that the model has moderate accuracy when it predicts draws, though there's still a significant proportion of false positives.\n",
    "- Home Win: The model is most precise with home win predictions, showing a precision of 0.79.\n",
    "\n",
    "Recall (How well the model is able to identify actual positive outcomes):\n",
    "\n",
    "- Away Win: A recall of 0.63 suggests that the model correctly identifies the majority of away wins but misses some.\n",
    "- Draw: The recall for draws is 0.60, which means the model is fairly good at detecting draws, but it does miss a considerable number of actual draw instances.\n",
    "- Home Win: The model exhibits a high recall of 0.89 for home wins, indicating it can identify most of the actual home wins.\n",
    "\n",
    "F1-Score (The harmonic mean of precision and recall, a balance between the two):\n",
    "\n",
    "- Away Win: An F1-score of 0.68 is fairly balanced, showing good overall performance for this class.\n",
    "- Draw: The F1-score of 0.62 for draws is lower, reflecting challenges in accurately predicting draws.\n",
    "- Home Win: The highest F1-score of 0.84 for home wins indicates that the model's predictions for home wins are both precise and robust.\n",
    "\n",
    "Support (The number of true instances for each label):\n",
    "\n",
    "The model was tested on 54 away wins, 52 draws, and 98 home wins.\n",
    "\n",
    "Aggregate Metrics:\n",
    "\n",
    "Accuracy: The model has an accuracy of 0.75, meaning it correctly predicts the match outcome 75% of the time.\n",
    "\n",
    "Macro Average: The macro average for precision, recall, and F1-score is around 0.73, indicating that the model has a balanced performance across all classes when each class is equally weighted.\n",
    "\n",
    "\n",
    "Weighted Average: The weighted averages take into account the support for each class, resulting in similar precision, recall, and F1-score as the macro average, which demonstrates that the model is reasonably balanced even when considering class imbalance.\n",
    "\n",
    "Best Parameters and Score from GridSearchCV:\n",
    "\n",
    "The optimal parameters for the Random Forest are {'max_depth': None, 'n_estimators': 200}, which suggests the best performance comes from a model with no maximum depth (allowing trees to grow until all leaves are pure or until all leaves contain less than min_samples_split samples) and using 200 trees in the forest.The best cross-validated accuracy score obtained from GridSearchCV is approximately 0.75, showing consistent performance with the accuracy observed on the test set.\n",
    "\n",
    "\n",
    "Evaluation:\n",
    "The Random Forest model demonstrates a strong ability to predict home wins, which is beneficial since this is often the most common outcome in football matches. It shows reasonably good performance for away wins and has more difficulty with draws, which are inherently challenging to predict due to their less frequent occurrence and the nature of the game. The model benefits from the ensemble approach of Random Forest, which aggregates the predictions of many decision trees to reduce overfitting and improve generalization. The lack of a max_depth limit allows the trees to fully grow to best capture the complexities in the data, which seems to be effective given the dataset and task. The use of 200 trees contributes to the robustness of the model, balancing variance and bias effectively. Overall, the Random Forest model appears to be well-tuned and performs competently in predicting football match outcomes.\n"
   ]
  },
  {
   "cell_type": "markdown",
   "metadata": {
    "id": "x-uML9sj6oZS"
   },
   "source": [
    "## K-Nearest Neighbors Classifier (KNN Classifier)\n",
    "KNN Classifier predicts the label of a data point by looking at the 'k' closest labeled data points and taking a majority vote or weighted decision based on their distances."
   ]
  },
  {
   "cell_type": "code",
   "execution_count": 26,
   "metadata": {
    "colab": {
     "base_uri": "https://localhost:8080/"
    },
    "id": "ifElb860bUt5",
    "outputId": "785c87b3-4905-4cde-de18-2db479532c58"
   },
   "outputs": [
    {
     "name": "stdout",
     "output_type": "stream",
     "text": [
      "              precision    recall  f1-score   support\n",
      "\n",
      "    Away Win       0.62      0.72      0.67        54\n",
      "        Draw       0.62      0.50      0.55        52\n",
      "    Home Win       0.78      0.79      0.78        98\n",
      "\n",
      "    accuracy                           0.70       204\n",
      "   macro avg       0.67      0.67      0.67       204\n",
      "weighted avg       0.70      0.70      0.69       204\n",
      "\n",
      "Best parameters for KNN: {'metric': 'manhattan', 'n_neighbors': 9, 'weights': 'distance'}\n",
      "Best score for KNN: 0.7401499659168371\n"
     ]
    }
   ],
   "source": [
    "from sklearn.neighbors import KNeighborsClassifier\n",
    "from sklearn.metrics import classification_report\n",
    "from sklearn.preprocessing import StandardScaler\n",
    "\n",
    "# Initialize the scaler\n",
    "scaler = StandardScaler()\n",
    "\n",
    "# Fit the scaler to the training data and transform it\n",
    "X_scaled = scaler.fit_transform(X)\n",
    "\n",
    "# Split the scaled data\n",
    "X_train, X_test, y_train, y_test = train_test_split(X_scaled, y, test_size=0.2, random_state=42)\n",
    "# Initialize the KNN classifier with default parameters\n",
    "knn = KNeighborsClassifier()\n",
    "\n",
    "# Fit the model\n",
    "knn.fit(X_train, y_train)\n",
    "\n",
    "# Make predictions\n",
    "y_pred = knn.predict(X_test)\n",
    "\n",
    "# Evaluate the model\n",
    "print(classification_report(y_test, y_pred))\n",
    "#the parameter grid\n",
    "param_grid_knn = {\n",
    "    'n_neighbors': [3, 5, 7, 9, 11],\n",
    "    'weights': ['uniform', 'distance'],\n",
    "    'metric': ['euclidean', 'manhattan']\n",
    "}\n",
    "\n",
    "#GridSearchCV\n",
    "grid_search_knn = GridSearchCV(estimator=KNeighborsClassifier(), param_grid=param_grid_knn, cv=5, scoring='accuracy')\n",
    "\n",
    "# Fit GridSearchCV\n",
    "grid_search_knn.fit(X_train, y_train)\n",
    "\n",
    "# Best parameters and score\n",
    "print(\"Best parameters for KNN:\", grid_search_knn.best_params_)\n",
    "print(\"Best score for KNN:\", grid_search_knn.best_score_)\n"
   ]
  },
  {
   "cell_type": "markdown",
   "metadata": {
    "id": "UYN-D-hWIAAL"
   },
   "source": [
    "Precision (Ability of the classifier not to label a sample as positive that is negative):\n",
    "\n",
    "- Away Win: Precision is 0.62, which suggests that the model has a reasonable rate of correct predictions for away wins, but there is room for improvement since around 38% of the predictions for away wins are incorrect.\n",
    "- Draw: Precision is also 0.62, indicating that when the model predicts a draw, it's correct about 62% of the time. However, there is a significant number of false positives for draws.\n",
    "- Home Win: The model has the highest precision for home wins at 0.78, meaning it's more reliable when predicting home victories.\n",
    "\n",
    "Recall (Ability of the classifier to find all the positive samples):\n",
    "\n",
    "- Away Win: The recall is higher for away wins at 0.72, indicating that the model is relatively good at identifying most of the actual away wins, but still misses about 28% of them.\n",
    "- Draw: The model's recall for draws is 0.50, meaning it correctly identifies half of the actual draws.\n",
    "- Home Win: The highest recall is for home wins at 0.79, suggesting the model is able to identify most of the actual home wins.\n",
    "\n",
    "F1-Score (Weighted harmonic mean of precision and recall):\n",
    "\n",
    "- Away Win: The F1-score is 0.67, which is balanced between precision and recall, reflecting moderate accuracy for away win predictions.\n",
    "- Draw: The F1-score for draws is the lowest at 0.55, indicating challenges in accurately predicting draws.\n",
    "- Home Win: The F1-score for home wins is the highest at 0.78, suggesting the model's predictions for home wins are both precise and robust.\n",
    "\n",
    "Support (Number of true instances for each label):\n",
    "\n",
    "The model was tested on 54 away wins, 52 draws, and 98 home wins.\n",
    "\n",
    "Aggregate Metrics:\n",
    "\n",
    "Accuracy: With an overall accuracy of 0.70, the model correctly predicts the match outcome 70% of the time across all classes.\n",
    "\n",
    "Macro Average Precision/Recall/F1-Score: All macro averages are at 0.67, indicating a balanced performance across different classes without giving additional weight to the majority class.\n",
    "\n",
    "Weighted Average Precision/Recall/F1-Score: The weighted averages are similar to the macro averages but slightly higher, reflecting the influence of class imbalance due to the different support values.\n",
    "\n",
    "Evaluation:\n",
    "The KNN model shows a good balance between precision and recall for home wins, which is the most frequent outcome in the dataset, and it performs reasonably well for away wins. The model struggles with predicting draws, which is often the case in football match predictions due to the inherent challenge of accurately forecasting a draw. The choice of the Manhattan distance and the weighting by distance likely contribute positively to the model's ability to differentiate between the classes. The model does not appear to be overfitting, as the performance on the test set is aligned with the cross-validation results, indicating that the model generalizes well. There is no strong indication of underfitting, as the model is performing with reasonable accuracy, although there is room for improvement, particularly in predicting draws. The model's overall performance suggests it can predict the correct match outcome about 70% to 74% of the time, depending on whether we consider the test set or cross-validation results."
   ]
  },
  {
   "cell_type": "markdown",
   "metadata": {
    "id": "_bIdIBPC6wao"
   },
   "source": [
    "## Support Vector Machine\n",
    "\n",
    "SVM is a robust classification technique that seeks to find a hyperplane in an N-dimensional space (N being the number of features) that distinctly classifies the data points. It aims to maximize the margin between the data points of different classes. The margin is defined as the distance between the hyperplane (decision boundary) and the nearest data points from each class, which are known as support vectors. This makes the model robust to noise and outliers.\n"
   ]
  },
  {
   "cell_type": "code",
   "execution_count": 27,
   "metadata": {
    "colab": {
     "base_uri": "https://localhost:8080/"
    },
    "id": "wpp2iU_hC-iE",
    "outputId": "5e5ee712-67c1-40a0-ee4d-169a2aea0beb"
   },
   "outputs": [
    {
     "name": "stdout",
     "output_type": "stream",
     "text": [
      "Best parameters for SVM: {'C': 10, 'gamma': 0.001, 'kernel': 'rbf'}\n",
      "Best score for SVM: 0.7672725895629781\n",
      "              precision    recall  f1-score   support\n",
      "\n",
      "    Away Win       0.84      0.70      0.77        54\n",
      "        Draw       0.61      0.73      0.67        52\n",
      "    Home Win       0.84      0.83      0.83        98\n",
      "\n",
      "    accuracy                           0.77       204\n",
      "   macro avg       0.76      0.75      0.76       204\n",
      "weighted avg       0.78      0.77      0.77       204\n",
      "\n"
     ]
    }
   ],
   "source": [
    "from sklearn.svm import SVC\n",
    "from sklearn.model_selection import train_test_split, GridSearchCV\n",
    "from sklearn.metrics import classification_report\n",
    "from sklearn.preprocessing import StandardScaler, LabelEncoder\n",
    "import pandas as pd\n",
    "\n",
    "# selecting features and target variable\n",
    "X = UEFA_df[['home_team_rank', 'away_team_rank', 'total_points_home', 'total_points_away',\n",
    "             'home_recent_points', 'away_recent_points', 'h2h_home_win', 'h2h_away_win',\n",
    "             'h2h_draw', 'points_change_difference']]\n",
    "y = UEFA_df['outcome']\n",
    "\n",
    "# Scaling features and encoding target\n",
    "scaler = StandardScaler()\n",
    "X_scaled = scaler.fit_transform(X)\n",
    "label_encoder = LabelEncoder()\n",
    "y_encoded = label_encoder.fit_transform(y)\n",
    "\n",
    "# splitting the data\n",
    "X_train, X_test, y_train, y_test = train_test_split(X_scaled, y_encoded, test_size=0.2, random_state=42)\n",
    "\n",
    "# Define parameter grid for GridSearchCV\n",
    "param_grid_svm = {\n",
    "    'C': [0.1, 1, 10, 100, 1000],\n",
    "    'gamma': [1, 0.1, 0.01, 0.001, 0.0001],\n",
    "    'kernel': ['rbf']\n",
    "}\n",
    "\n",
    "svm = SVC(probability=True)\n",
    "\n",
    "# Initialize Grid Search with Cross Validation and return the training score\n",
    "svm_grid = GridSearchCV(svm, param_grid=param_grid_svm, cv=5, return_train_score=True)\n",
    "svm_grid.fit(X_train, y_train)\n",
    "\n",
    "# Best parameters and score\n",
    "print(\"Best parameters for SVM:\", svm_grid.best_params_)\n",
    "print(\"Best score for SVM:\", svm_grid.best_score_)\n",
    "\n",
    "# Use the best estimator to make predictions\n",
    "y_pred = svm_grid.predict(X_test)\n",
    "\n",
    "# Evaluate the model\n",
    "target_names = ['Away Win', 'Draw', 'Home Win']\n",
    "print(classification_report(y_test, y_pred, target_names=target_names))\n",
    "\n",
    "\n"
   ]
  },
  {
   "cell_type": "markdown",
   "metadata": {
    "id": "yyQyX9ewjGsA"
   },
   "source": [
    "Support (Number of true instances for each label):\n",
    "- Indicates that the model was tested on 54 away wins, 52 draws, and 98 home wins.\n",
    "\n",
    "Precision (Ability of the classifier not to label as positive a sample that is negative):\n",
    "- Away Win: High precision suggests the model is good at predicting away wins without many false positives.\n",
    "- Draw: Lower precision indicates more false positives when predicting draws.\n",
    "- Home Win: High precision indicates reliable predictions for home wins.\n",
    "\n",
    "Recall (Ability of the classifier to find all the positive samples):\n",
    "\n",
    "- Away Win: Moderate recall implies some away wins are being missed.\n",
    "- Draw: Recall is better than precision for draws, indicating the model is better at detecting draws but may still miss some.\n",
    "- Home Win: High recall, meaning the model is good at identifying most of the home wins.\n",
    "\n",
    "F1-Score (A weighted harmonic mean of precision and recall):\n",
    "- Away Win: Good F1-score indicates a balance between precision and recall for away wins.\n",
    "- Draw: Lower F1-score reflects challenges in accurately predicting draws.\n",
    "- Home Win: High F1-score suggests that the model's predictions for home wins are both precise and robust.\n",
    "\n",
    "\n",
    "Aggregate Metrics:\n",
    "- Accuracy: 0.77 - This metric indicates that the model predicts the correct outcome 77% of the time across all classes. While this is a solid performance, accuracy alone can be misleading in the presence of class imbalance, as the model could be performing well on the majority class and poorly on the minority class\n",
    "- Macro Average Precision/Recall/F1-Score: Around 0.76 - The macro average treats all classes equally, giving the same weight to each class regardless of how many instances it has. Macro average precision, recall, and F1-score all being around 76% suggests the model has a fairly balanced performance across different classes. This is a particularly useful metric to ensure that the model treats each class with equal importance, regardless of their frequency.\n",
    "- Weighted Average Precision/Recall/F1-Score: Around 0.77 - The weighted average takes label imbalance into account by weighting the metrics by the number of true instances for each class. This gives a higher weight to the majority class and less to the minority classes. The fact that the weighted average precision, recall, and F1-score are also around 0.77 indicates that the model's good performance is not solely on the majority class. It shows a somewhat balanced ability of the model to handle both majority and minority classes according to their presence in the dataset.\n",
    "\n",
    "Evaluation:\n",
    "The model performs best in predicting home wins, likely due to the larger number of instances available for that class (support = 98). It struggles more with predicting draws, which could be due to the complex nature of accurately predicting a draw or fewer instances to learn from. Given the class imbalance, the weighted averages are better indicators of overall model performance. Overall the performance of the model indicates that the model can predict the correct outcome around 77% of the time."
   ]
  },
  {
   "cell_type": "code",
   "execution_count": 28,
   "metadata": {
    "colab": {
     "base_uri": "https://localhost:8080/",
     "height": 206
    },
    "id": "DCUm7K23jHC5",
    "outputId": "585b85aa-57b1-499c-de09-a85a618222a5"
   },
   "outputs": [
    {
     "data": {
      "text/html": [
       "<div>\n",
       "<style scoped>\n",
       "    .dataframe tbody tr th:only-of-type {\n",
       "        vertical-align: middle;\n",
       "    }\n",
       "\n",
       "    .dataframe tbody tr th {\n",
       "        vertical-align: top;\n",
       "    }\n",
       "\n",
       "    .dataframe thead th {\n",
       "        text-align: right;\n",
       "    }\n",
       "</style>\n",
       "<table border=\"1\" class=\"dataframe\">\n",
       "  <thead>\n",
       "    <tr style=\"text-align: right;\">\n",
       "      <th></th>\n",
       "      <th>mean_train_score</th>\n",
       "      <th>std_train_score</th>\n",
       "      <th>mean_test_score</th>\n",
       "      <th>std_test_score</th>\n",
       "    </tr>\n",
       "  </thead>\n",
       "  <tbody>\n",
       "    <tr>\n",
       "      <th>13</th>\n",
       "      <td>0.776787</td>\n",
       "      <td>0.002641</td>\n",
       "      <td>0.767273</td>\n",
       "      <td>0.019262</td>\n",
       "    </tr>\n",
       "    <tr>\n",
       "      <th>7</th>\n",
       "      <td>0.780174</td>\n",
       "      <td>0.001646</td>\n",
       "      <td>0.761100</td>\n",
       "      <td>0.016943</td>\n",
       "    </tr>\n",
       "    <tr>\n",
       "      <th>19</th>\n",
       "      <td>0.775863</td>\n",
       "      <td>0.003133</td>\n",
       "      <td>0.761092</td>\n",
       "      <td>0.009637</td>\n",
       "    </tr>\n",
       "    <tr>\n",
       "      <th>18</th>\n",
       "      <td>0.780481</td>\n",
       "      <td>0.003425</td>\n",
       "      <td>0.758615</td>\n",
       "      <td>0.017689</td>\n",
       "    </tr>\n",
       "    <tr>\n",
       "      <th>17</th>\n",
       "      <td>0.823584</td>\n",
       "      <td>0.002500</td>\n",
       "      <td>0.757404</td>\n",
       "      <td>0.014084</td>\n",
       "    </tr>\n",
       "  </tbody>\n",
       "</table>\n",
       "</div>"
      ],
      "text/plain": [
       "    mean_train_score  std_train_score  mean_test_score  std_test_score\n",
       "13          0.776787         0.002641         0.767273        0.019262\n",
       "7           0.780174         0.001646         0.761100        0.016943\n",
       "19          0.775863         0.003133         0.761092        0.009637\n",
       "18          0.780481         0.003425         0.758615        0.017689\n",
       "17          0.823584         0.002500         0.757404        0.014084"
      ]
     },
     "execution_count": 28,
     "metadata": {},
     "output_type": "execute_result"
    }
   ],
   "source": [
    "# Display the CV results for the train and test set\n",
    "cv_results = pd.DataFrame(svm_grid.cv_results_)\n",
    "cv_results = cv_results.sort_values('mean_test_score', ascending=False)\n",
    "cv_results[['mean_train_score', 'std_train_score', 'mean_test_score', 'std_test_score']].head()"
   ]
  },
  {
   "cell_type": "markdown",
   "metadata": {
    "id": "DT-WVmlalF74"
   },
   "source": [
    "Given that for the best parameters the mean_train_score is 77.68% which is only a 0.96% difference with the mean_test_score (76.73%), the SVM does not overfit or underfit the data which demonstrates low bias and variance"
   ]
  },
  {
   "cell_type": "code",
   "execution_count": 29,
   "metadata": {
    "colab": {
     "base_uri": "https://localhost:8080/",
     "height": 564
    },
    "id": "RIsHNkuldsvq",
    "outputId": "5c6ebf99-2fe2-4112-bb85-d42913de8800"
   },
   "outputs": [
    {
     "data": {
      "image/png": "[encoded data removed]",
      "text/plain": [
       "<Figure size 1000x600 with 1 Axes>"
      ]
     },
     "metadata": {},
     "output_type": "display_data"
    }
   ],
   "source": [
    "# Best accuracy scores for each of the models\n",
    "best_score_rf = 0.7475\n",
    "best_score_knn = 0.7401\n",
    "best_score_svm = 0.7672\n",
    "\n",
    "\n",
    "models = ['Random Forest', 'K-Nearest Neighbors', 'SVM']\n",
    "\n",
    "# Accuracy Scores\n",
    "scores = [best_score_rf, best_score_knn, best_score_svm]\n",
    "\n",
    "# bar chart\n",
    "plt.figure(figsize=(10, 6))\n",
    "plt.bar(models, scores, color=['green', 'blue', 'red'])\n",
    "plt.xlabel('Models')\n",
    "plt.ylabel('Accuracy')\n",
    "plt.title('Comparison of Model Accuracies')\n",
    "plt.ylim([0.7, 0.8])  # limits for better visualization\n",
    "plt.show()"
   ]
  },
  {
   "cell_type": "markdown",
   "metadata": {
    "id": "cG3djDKM7ZTu"
   },
   "source": [
    "\n",
    "SVM shows the highest accuracy among the three models, which suggests it might be the best at handling the complexity of the dataset with its ability to model non-linear decision boundaries effectively. Random Forest also performs well. This model benefits from its ability to handle high-dimensional data and model non-linear relationships. K-Nearest Neighbors has a slightly lower accuracy compared to the other two.\n",
    "\n",
    "The SVM model shows the highest overall accuracy among the three models. An accuracy of 0.77 is indicative of a model that performs well across all outcome classes. The macro and weighted averages indicate that the SVM model treats all classes fairly and performs well even when class imbalance is accounted for. This suggests that the model is not only performing well on the majority class but also handling minority classes effectively. The SVM's ability to provide high precision and recall, particularly for home wins, which are more frequent in football, demonstrates its robustness as a model. The consistent performance across different classes suggests that the SVM model has a good generalization capability, which is crucial for the unpredictable nature of football matches.\n",
    "\n",
    "These factors combined with the make the SVM an appropriate choice for predicting UEFA Euro 2024 match outcomes.\n",
    "\n"
   ]
  },
  {
   "cell_type": "markdown",
   "metadata": {
    "id": "ku66ML_EMq-n"
   },
   "source": [
    "# **Creating the Bracket**"
   ]
  },
  {
   "cell_type": "code",
   "execution_count": 30,
   "metadata": {
    "id": "OabZ6xybLbMZ"
   },
   "outputs": [],
   "source": [
    "# Extract head-to-head match statistics between two specified teams to predict a match outcome\n",
    "\n",
    "def extract_h2h_statistics(home_team, away_team):\n",
    "\n",
    "    # Select matches where the two teams have faced each other\n",
    "    h2h_matches = UEFA_df[((UEFA_df['home_team'] == home_team) & (UEFA_df['away_team'] == away_team)) |\n",
    "                          ((UEFA_df['home_team'] == away_team) & (UEFA_df['away_team'] == home_team))]\n",
    "\n",
    "    # Initialize counters\n",
    "    h2h_home_win = 0\n",
    "    h2h_away_win = 0\n",
    "    h2h_draw = 0\n",
    "\n",
    "    # Count the outcomes\n",
    "    for _, row in h2h_matches.iterrows():\n",
    "        if row['home_team'] == home_team:\n",
    "            if row['home_score'] > row['away_score']:\n",
    "                h2h_home_win += 1\n",
    "            elif row['home_score'] < row['away_score']:\n",
    "                h2h_away_win += 1\n",
    "            else:\n",
    "                h2h_draw += 1\n",
    "        else:\n",
    "            if row['home_score'] > row['away_score']:\n",
    "                h2h_away_win += 1\n",
    "            elif row['home_score'] < row['away_score']:\n",
    "                h2h_home_win += 1\n",
    "            else:\n",
    "                h2h_draw += 1\n",
    "\n",
    "    return h2h_home_win, h2h_away_win, h2h_draw"
   ]
  },
  {
   "cell_type": "code",
   "execution_count": 31,
   "metadata": {
    "id": "JUvcUnC2LbVw"
   },
   "outputs": [],
   "source": [
    "# Extract relevant features for a match between a home team and an away team to predict the outcome\n",
    "def extract_match_features(home_team, away_team):\n",
    "    # Assuming 'date' column is sorted or using sort_values to ensure the latest match is selected accurately\n",
    "\n",
    "    # Find the most recent match where each team played, regardless of being home or away\n",
    "    latest_home_team_match = UEFA_df[(UEFA_df['home_team'] == home_team) | (UEFA_df['away_team'] == home_team)].iloc[-1]\n",
    "    latest_away_team_match = UEFA_df[(UEFA_df['home_team'] == away_team) | (UEFA_df['away_team'] == away_team)].iloc[-1]\n",
    "\n",
    "    # Extracting rank and total points directly\n",
    "    if latest_home_team_match['home_team'] == home_team:\n",
    "        home_team_rank = latest_home_team_match['home_team_rank']\n",
    "        total_points_home = latest_home_team_match['total_points_home']\n",
    "        home_recent_points = latest_home_team_match['home_recent_points']\n",
    "    else:\n",
    "        home_team_rank = latest_home_team_match['away_team_rank']\n",
    "        total_points_home = latest_home_team_match['total_points_away']\n",
    "        home_recent_points = latest_home_team_match['away_recent_points']\n",
    "\n",
    "    if latest_away_team_match['away_team'] == away_team:\n",
    "        away_team_rank = latest_away_team_match['away_team_rank']\n",
    "        total_points_away = latest_away_team_match['total_points_away']\n",
    "        away_recent_points = latest_away_team_match['away_recent_points']\n",
    "    else:\n",
    "        away_team_rank = latest_away_team_match['home_team_rank']\n",
    "        total_points_away = latest_away_team_match['total_points_home']\n",
    "        away_recent_points = latest_away_team_match['home_recent_points']\n",
    "\n",
    "    # Extract head-to-head statistics using the previously defined approach\n",
    "    h2h_home_win, h2h_away_win, h2h_draw = extract_h2h_statistics(home_team, away_team)\n",
    "\n",
    "    # Compute points change difference\n",
    "    # This assumes the dataset contains 'previous_points_home' and 'previous_points_away' for such calculations\n",
    "    points_change_difference = (total_points_home - latest_home_team_match['previous_points_home']) - (total_points_away - latest_away_team_match['previous_points_away'])\n",
    "\n",
    "    # Combine all features into a single vector\n",
    "    features = [home_team_rank, away_team_rank, total_points_home, total_points_away,\n",
    "                home_recent_points, away_recent_points, h2h_home_win, h2h_away_win,\n",
    "                h2h_draw, points_change_difference]\n",
    "\n",
    "    return features"
   ]
  },
  {
   "cell_type": "code",
   "execution_count": 32,
   "metadata": {
    "id": "4ez6KdQyLbdl"
   },
   "outputs": [],
   "source": [
    "# Predicts the match outcome (Home Win, Away Win, Draw) along with the probabilities for each outcome\n",
    "def predict_outcome_with_probability(home_team, away_team, model):\n",
    "    # Extract match feature\n",
    "    features = extract_match_features(home_team, away_team)\n",
    "\n",
    "    # Create a DataFrame from the features with the appropriate column names\n",
    "    features_df = pd.DataFrame([features], columns=X.columns)\n",
    "\n",
    "    # Scale the features using the same scaler as during model training\n",
    "    scaled_features = scaler.transform(features_df)\n",
    "\n",
    "    # Predict the outcome\n",
    "    prediction_encoded = model.predict(scaled_features)\n",
    "    prediction = label_encoder.inverse_transform(prediction_encoded)[0]\n",
    "\n",
    "    # Predict the probabilities\n",
    "    probabilities = model.predict_proba(scaled_features)[0]\n",
    "\n",
    "    # Map probabilities to their respective labels\n",
    "    probability_per_class = dict(zip(label_encoder.inverse_transform(range(len(probabilities))), probabilities))\n",
    "\n",
    "    return prediction, probability_per_class"
   ]
  },
  {
   "cell_type": "code",
   "execution_count": 33,
   "metadata": {
    "id": "kvYuPLapLsAP"
   },
   "outputs": [],
   "source": [
    "# In the case of a draw, the team with the higher probability of winning wins\n",
    "# this is to account for the fact that our model does not have Extra time, penalty and other\n",
    "# resolutions that take place in the case of draws in the round of 16, quarter finals, semi finals\n",
    "# and finals\n",
    "def resolve_draw(home_team, away_team, model):\n",
    "    # Predict outcome and probabilities\n",
    "    prediction, probabilities = predict_outcome_with_probability(home_team, away_team, model)\n",
    "\n",
    "    # If the prediction is a draw, resolve using probabilities\n",
    "    if prediction == 'Draw':\n",
    "        # Compare win probabilities\n",
    "        if probabilities['Home Win'] > probabilities['Away Win']:\n",
    "            resolved_outcome = 'Home Win'\n",
    "        else:\n",
    "            resolved_outcome = 'Away Win'\n",
    "    else:\n",
    "        # No resolution needed, use the original prediction\n",
    "        resolved_outcome = prediction\n",
    "\n",
    "    return resolved_outcome, probabilities"
   ]
  },
  {
   "cell_type": "markdown",
   "metadata": {
    "id": "r6BVPfmFQvVo"
   },
   "source": [
    "Group A :\n",
    "Germany\n",
    "Scotland\n",
    "Hungary\n",
    "Switzerland\n",
    "\n",
    "Group B:\n",
    "Spain\n",
    "Croatia\n",
    "Italy\n",
    "Albania\n",
    "\n",
    "Group C:\n",
    "Slovenia\n",
    "Denmark\n",
    "Serbia\n",
    "England\n",
    "\n",
    "Group D:\n",
    "Netherlands\n",
    "France\n",
    "Poland\n",
    "Austria\n",
    "\n",
    "Group E:\n",
    "Ukraine\n",
    "Slovakia\n",
    "Belgium\n",
    "Romania\n",
    "\n",
    "Group F:\n",
    "Portugal\n",
    "Czechia\n",
    "Georgia\n",
    "Turkey\n"
   ]
  },
  {
   "cell_type": "code",
   "execution_count": 34,
   "metadata": {
    "colab": {
     "base_uri": "https://localhost:8080/"
    },
    "id": "JueUIpLXQwMh",
    "outputId": "c8102764-eddf-459e-b1f9-fd79a1717c55"
   },
   "outputs": [
    {
     "name": "stdout",
     "output_type": "stream",
     "text": [
      "Winner of Germany vs Scotland: Germany\n",
      "Winner of Hungary vs Switzerland: Switzerland\n",
      "Winner of Spain vs Croatia: Spain\n",
      "Winner of Italy vs Albania: Italy\n",
      "Winner of Poland vs Netherlands: Netherlands\n",
      "Winner of Slovenia vs Denmark: Denmark\n",
      "Winner of Serbia vs England: England\n",
      "Winner of Romania vs Ukraine: Ukraine\n",
      "Winner of Belgium vs Slovakia: Belgium\n",
      "Winner of Austria vs France: France\n",
      "Winner of Turkey vs Georgia: Turkey\n",
      "Winner of Portugal vs Czechia: Portugal\n",
      "Winner of Germany vs Hungary: Germany\n",
      "Winner of Scotland vs Switzerland: Switzerland\n",
      "Winner of Slovenia vs Serbia: Serbia\n",
      "Winner of Denmark vs England: England\n",
      "Winner of Spain vs Italy: Spain\n",
      "Winner of Slovakia vs Ukraine: Slovakia\n",
      "Winner of Poland vs Austria: Poland\n",
      "Winner of Netherlands vs France: France\n",
      "Winner of Georgia vs Czechia: Czechia\n",
      "Winner of Turkey vs Portugal: Portugal\n",
      "Winner of Belgium vs Romania: Romania\n",
      "Winner of Switzerland vs Germany: Switzerland\n",
      "Winner of Scotland vs Hungary: Scotland\n",
      "Winner of Albania vs Spain: Spain\n",
      "Winner of Croatia vs Italy: Croatia\n",
      "Winner of Netherlands vs Austria: Netherlands\n",
      "Winner of France vs Poland: France\n",
      "Winner of England vs Slovenia: England\n",
      "Winner of Denmark vs Serbia: Denmark\n",
      "Winner of Slovakia vs Romania: Romania\n",
      "Winner of Ukraine vs Belgium: Belgium\n",
      "Winner of Georgia vs Portugal: Portugal\n",
      "Winner of Czechia vs Turkey: Turkey\n",
      "Winner of Croatia vs Albania: Albania\n",
      "Winner of Scotland vs Germany: Germany\n"
     ]
    }
   ],
   "source": [
    "# Assuming 'model', 'scaler', and 'label_encoder' are already initialized and fitted\n",
    "def predict_match_winner(home_team, away_team, model):\n",
    "    resolved_outcome, _ = resolve_draw(home_team, away_team, model)\n",
    "    if resolved_outcome == 'Home Win':\n",
    "        return home_team\n",
    "    elif resolved_outcome == 'Away Win':\n",
    "        return away_team\n",
    "    else:\n",
    "        return \"Draw\"\n",
    "\n",
    "def predict_multiple_matches(matches, model):\n",
    "    winners = []\n",
    "    for home_team, away_team in matches:\n",
    "        winner = predict_match_winner(home_team, away_team, model)\n",
    "        winners.append(winner)\n",
    "    return winners\n",
    "\n",
    "# List of games\n",
    "matches = [\n",
    "    (\"Germany\", \"Scotland\"), (\"Hungary\", \"Switzerland\"), (\"Spain\", \"Croatia\"), (\"Italy\", \"Albania\"), (\"Poland\", \"Netherlands\"),\n",
    "    (\"Slovenia\", \"Denmark\"), (\"Serbia\", \"England\"), (\"Romania\", \"Ukraine\"), (\"Belgium\", \"Slovakia\"), (\"Austria\", \"France\"),\n",
    "    (\"Turkey\", \"Georgia\"), (\"Portugal\", \"Czechia\"), (\"Germany\", \"Hungary\"), (\"Scotland\", \"Switzerland\"), (\"Slovenia\", \"Serbia\"),\n",
    "    (\"Denmark\", \"England\"), (\"Spain\", \"Italy\"), (\"Slovakia\", \"Ukraine\"), (\"Poland\", \"Austria\"), (\"Netherlands\", \"France\"),\n",
    "    (\"Georgia\", \"Czechia\"), (\"Turkey\", \"Portugal\"), (\"Belgium\", \"Romania\"), (\"Switzerland\", \"Germany\"), (\"Scotland\", \"Hungary\"),\n",
    "    (\"Albania\", \"Spain\"), (\"Croatia\", \"Italy\"), (\"Netherlands\", \"Austria\"), (\"France\", \"Poland\"), (\"England\", \"Slovenia\"),\n",
    "    (\"Denmark\", \"Serbia\"),\n",
    "    (\"Slovakia\", \"Romania\"),\n",
    "    (\"Ukraine\", \"Belgium\"),\n",
    "    (\"Georgia\", \"Portugal\"),\n",
    "    (\"Czechia\", \"Turkey\"),\n",
    "    (\"Croatia\", \"Albania\"),\n",
    "    (\"Scotland\", \"Germany\"),\n",
    "]\n",
    "\n",
    "# Predict the winners of multiple matches\n",
    "predicted_winners = predict_multiple_matches(matches, svm_grid.best_estimator_)\n",
    "\n",
    "# Display the predicted winners\n",
    "for match, winner in zip(matches, predicted_winners):\n",
    "    print(f\"Winner of {match[0]} vs {match[1]}: {winner}\")"
   ]
  },
  {
   "cell_type": "code",
   "execution_count": 35,
   "metadata": {
    "colab": {
     "base_uri": "https://localhost:8080/"
    },
    "id": "Kvss-DVDa-Il",
    "outputId": "9c124b33-d6f3-49c6-9bcd-bbe6c6004ca3"
   },
   "outputs": [
    {
     "name": "stdout",
     "output_type": "stream",
     "text": [
      "Germany: 9 points\n",
      "Scotland: 3 points\n",
      "Hungary: 0 points\n",
      "Switzerland: 9 points\n",
      "Spain: 9 points\n",
      "Croatia: 3 points\n",
      "Italy: 3 points\n",
      "Albania: 3 points\n",
      "Poland: 3 points\n",
      "Netherlands: 6 points\n",
      "Slovenia: 0 points\n",
      "Denmark: 6 points\n",
      "Serbia: 3 points\n",
      "England: 9 points\n",
      "Romania: 6 points\n",
      "Ukraine: 3 points\n",
      "Belgium: 6 points\n",
      "Slovakia: 3 points\n",
      "Austria: 0 points\n",
      "France: 9 points\n",
      "Turkey: 6 points\n",
      "Georgia: 0 points\n",
      "Portugal: 9 points\n",
      "Czechia: 3 points\n"
     ]
    }
   ],
   "source": [
    "# Initialize a dictionary to keep track of points for each team\n",
    "team_points = {team: 0 for match in matches for team in match}\n",
    "\n",
    "# Function to update points based on match outcome\n",
    "def update_points(home_team, away_team, winner, points):\n",
    "    if winner == \"Draw\":\n",
    "        return points\n",
    "    elif winner == home_team:\n",
    "        points[home_team] += 3\n",
    "    else:\n",
    "        points[away_team] += 3\n",
    "    return points\n",
    "\n",
    "# Predict the winners of all matches and update points accordingly\n",
    "for home_team, away_team in matches:\n",
    "    winner = predict_match_winner(home_team, away_team, svm_grid.best_estimator_)\n",
    "    team_points = update_points(home_team, away_team, winner, team_points)\n",
    "\n",
    "# Display the points for each team\n",
    "for team, points in team_points.items():\n",
    "    print(f\"{team}: {points} points\")"
   ]
  },
  {
   "cell_type": "code",
   "execution_count": 36,
   "metadata": {
    "colab": {
     "base_uri": "https://localhost:8080/"
    },
    "id": "4LTBCgCucp7l",
    "outputId": "0b785815-b634-4aa7-a006-b182e44f57d1"
   },
   "outputs": [
    {
     "name": "stdout",
     "output_type": "stream",
     "text": [
      "Rankings for Group A: ['Germany', 'Switzerland', 'Scotland', 'Hungary']\n",
      "Rankings for Group B: ['Spain', 'Italy', 'Albania', 'Croatia']\n",
      "Rankings for Group C: ['England', 'Denmark', 'Serbia', 'Slovenia']\n",
      "Rankings for Group D: ['France', 'Netherlands', 'Poland', 'Austria']\n",
      "Rankings for Group E: ['Romania', 'Belgium', 'Slovakia', 'Ukraine']\n",
      "Rankings for Group F: ['Portugal', 'Turkey', 'Czechia', 'Georgia']\n"
     ]
    }
   ],
   "source": [
    "# Define function to find the ranking for each group\n",
    "def calculate_group_rankings(group_teams, team_points):\n",
    "    sorted_teams = sorted(group_teams, key=lambda x: team_points[x], reverse=True)\n",
    "    return sorted_teams\n",
    "\n",
    "# Define groups\n",
    "groups = {\n",
    "    \"Group A\": [\"Germany\", \"Hungary\", \"Scotland\", \"Switzerland\"],\n",
    "    \"Group B\": [\"Spain\", \"Italy\", \"Albania\", \"Croatia\"],\n",
    "    \"Group C\": [\"Slovenia\", \"Serbia\", \"Denmark\", \"England\"],\n",
    "    \"Group D\": [\"Poland\", \"Austria\", \"Netherlands\", \"France\"],\n",
    "    \"Group E\": [\"Romania\", \"Belgium\", \"Slovakia\", \"Ukraine\"],\n",
    "    \"Group F\": [\"Turkey\", \"Portugal\", \"Georgia\", \"Czechia\"]\n",
    "}\n",
    "\n",
    "# Calculate rankings for each group based on points\n",
    "group_rankings = {group: calculate_group_rankings(teams, team_points) for group, teams in groups.items()}\n",
    "\n",
    "# Display the rankings for each group\n",
    "for group, ranking in group_rankings.items():\n",
    "    print(f\"Rankings for {group}: {ranking}\")"
   ]
  },
  {
   "cell_type": "code",
   "execution_count": 37,
   "metadata": {
    "colab": {
     "base_uri": "https://localhost:8080/"
    },
    "id": "q_wZGIH1gXVY",
    "outputId": "540f54e3-ed36-43da-8efa-4294b88f0cb1"
   },
   "outputs": [
    {
     "name": "stdout",
     "output_type": "stream",
     "text": [
      "Best Two Teams from Each Group:\n",
      "Group A: ['Germany', 'Switzerland']\n",
      "Group B: ['Spain', 'Italy']\n",
      "Group C: ['England', 'Denmark']\n",
      "Group D: ['France', 'Netherlands']\n",
      "Group E: ['Romania', 'Belgium']\n",
      "Group F: ['Portugal', 'Turkey']\n",
      "\n",
      "Third Place Ranking:\n",
      "Scotland\n",
      "Albania\n",
      "Serbia\n",
      "Poland\n"
     ]
    }
   ],
   "source": [
    "# Calculate rankings for all teams\n",
    "all_teams_ranking = sorted(team_points.keys(), key=lambda x: team_points[x], reverse=True)\n",
    "\n",
    "# Initialize a dictionary to store the best two teams from each group\n",
    "best_two_teams = {group: group_rankings[group][:2] for group in group_rankings}\n",
    "\n",
    "print(\"Best Two Teams from Each Group:\")\n",
    "for group, teams in best_two_teams.items():\n",
    "    print(f\"{group}: {teams}\")\n",
    "\n",
    "# Calculate the third teams from each group\n",
    "third_teams = {group: group_rankings[group][2] for group in group_rankings}\n",
    "\n",
    "# Sort the third teams based on points\n",
    "third_place_ranking = sorted(third_teams.values(), key=lambda x: team_points[x], reverse=True)[:4]\n",
    "\n",
    "print(\"\\nThird Place Ranking:\")\n",
    "for team in third_place_ranking:\n",
    "    print(team)"
   ]
  },
  {
   "cell_type": "code",
   "execution_count": 38,
   "metadata": {
    "colab": {
     "base_uri": "https://localhost:8080/"
    },
    "id": "QePg2SmiiHjM",
    "outputId": "309e8caf-f007-4b65-d4bd-eb2b27aea69a"
   },
   "outputs": [
    {
     "name": "stdout",
     "output_type": "stream",
     "text": [
      "Winner of Albania vs. Germany: Germany\n",
      "Winner of Spain vs. Scotland: Spain\n",
      "Winner of England vs. Poland: England\n",
      "Winner of France vs. Turkey: Turkey\n",
      "Winner of Romania vs. Serbia: Romania\n",
      "Winner of Portugal vs. Belgium: Belgium\n",
      "Winner of Switzerland vs. Netherlands: Netherlands\n",
      "Winner of Italy vs. Denmark: Italy\n"
     ]
    }
   ],
   "source": [
    "runner_ups = {group: group_rankings[group][1] for group in group_rankings}\n",
    "\n",
    "# Define the Round of 16 matchups\n",
    "round_of_16_matchups = [\n",
    "    (group_rankings[\"Group B\"][2], best_two_teams[\"Group A\"][0]),  # Winner Group A vs. 3rd Group B\n",
    "    (best_two_teams[\"Group B\"][0], group_rankings[\"Group A\"][2]),  # Winner Group B vs. 3rd Group A\n",
    "    (best_two_teams[\"Group C\"][0], group_rankings[\"Group D\"][2]),  # Winner Group C vs. 3rd Group D\n",
    "    (best_two_teams[\"Group D\"][0], runner_ups[\"Group F\"]),         # Winner Group D vs. Runner-up Group F\n",
    "    (best_two_teams[\"Group E\"][0], group_rankings[\"Group C\"][2]),         # Winner Group E vs. Runner-up Group C\n",
    "    (best_two_teams[\"Group F\"][0], runner_ups[\"Group E\"]),         # Winner Group F vs. Runner-up Group E\n",
    "    (runner_ups[\"Group A\"], runner_ups[\"Group D\"]),                # Runner-up Group A vs. Runner-up Group D\n",
    "    (runner_ups[\"Group B\"], runner_ups[\"Group C\"])                 # Runner-up Group B vs. Runner-up Group C\n",
    "]\n",
    "\n",
    "# Predict the winners of the Round of 16 matches\n",
    "round_of_16_winners = predict_multiple_matches(round_of_16_matchups, svm_grid.best_estimator_)\n",
    "\n",
    "# Display the winners of the Round of 16 matches\n",
    "for matchup, winner in zip(round_of_16_matchups, round_of_16_winners):\n",
    "    print(f\"Winner of {matchup[0]} vs. {matchup[1]}: {winner}\")"
   ]
  },
  {
   "cell_type": "code",
   "execution_count": 39,
   "metadata": {
    "colab": {
     "base_uri": "https://localhost:8080/"
    },
    "id": "yUca5vi5o_zi",
    "outputId": "076828c1-79f4-4877-d8fb-6d99956be403"
   },
   "outputs": [
    {
     "name": "stdout",
     "output_type": "stream",
     "text": [
      "Winner of Germany vs. Spain: Germany\n",
      "Winner of England vs. Turkey: England\n",
      "Winner of Romania vs. Belgium: Belgium\n",
      "Winner of Netherlands vs. Italy: Italy\n"
     ]
    }
   ],
   "source": [
    "# Define the quarter-final matchups using the winners from the round of 16\n",
    "quarter_final_matchups = [\n",
    "    (round_of_16_winners[0], round_of_16_winners[1]),   # Winner R16 Match 1 vs. Winner R16 Match 2\n",
    "    (round_of_16_winners[2], round_of_16_winners[3]),   # Winner R16 Match 3 vs. Winner R16 Match 4\n",
    "    (round_of_16_winners[4], round_of_16_winners[5]),   # Winner R16 Match 5 vs. Winner R16 Match 6\n",
    "    (round_of_16_winners[6], round_of_16_winners[7])    # Winner R16 Match 7 vs. Winner R16 Match 8\n",
    "]\n",
    "\n",
    "# Predict the winners of the quarter-final matches\n",
    "quarter_final_winners = predict_multiple_matches(quarter_final_matchups, svm_grid.best_estimator_)\n",
    "\n",
    "# Display the winners of the quarter-final matches\n",
    "for matchup, winner in zip(quarter_final_matchups, quarter_final_winners):\n",
    "    print(f\"Winner of {matchup[0]} vs. {matchup[1]}: {winner}\")"
   ]
  },
  {
   "cell_type": "code",
   "execution_count": 40,
   "metadata": {
    "colab": {
     "base_uri": "https://localhost:8080/"
    },
    "id": "br85Nxeurg2M",
    "outputId": "72929614-4276-4df6-f48e-ebe0ac296fc0"
   },
   "outputs": [
    {
     "name": "stdout",
     "output_type": "stream",
     "text": [
      "Winner of Germany vs. England: England\n",
      "Winner of Belgium vs. Italy: Italy\n"
     ]
    }
   ],
   "source": [
    "# Define the semi-final matchups using the winners from the quarter-finals\n",
    "semi_final_matchups = [\n",
    "    (quarter_final_winners[0], quarter_final_winners[1]),   # Winner QF Match 1 vs. Winner QF Match 2\n",
    "    (quarter_final_winners[2], quarter_final_winners[3])    # Winner QF Match 3 vs. Winner QF Match 4\n",
    "]\n",
    "\n",
    "# Predict the winners of the semi-final matches\n",
    "semi_final_winners = predict_multiple_matches(semi_final_matchups, svm_grid.best_estimator_)\n",
    "\n",
    "# Display the winners of the semi-final matches\n",
    "for matchup, winner in zip(semi_final_matchups, semi_final_winners):\n",
    "    print(f\"Winner of {matchup[0]} vs. {matchup[1]}: {winner}\")"
   ]
  },
  {
   "cell_type": "code",
   "execution_count": 41,
   "metadata": {
    "colab": {
     "base_uri": "https://localhost:8080/"
    },
    "id": "w6S5g8sXri7B",
    "outputId": "4c5b35a9-831a-4c70-bc1f-a28e674a77b4"
   },
   "outputs": [
    {
     "name": "stdout",
     "output_type": "stream",
     "text": [
      "\n",
      "Winner of the Final: England\n"
     ]
    }
   ],
   "source": [
    "# Define the final matchup using the winners from the semi-finals\n",
    "final_matchup = (semi_final_winners[0], semi_final_winners[1])\n",
    "\n",
    "# Predict the winner of the final match\n",
    "final_winner = predict_match_winner(final_matchup[0], final_matchup[1], svm_grid.best_estimator_)\n",
    "\n",
    "# Display the winner of the final match\n",
    "print(f\"\\nWinner of the Final: {final_winner}\")"
   ]
  },
  {
   "cell_type": "markdown",
   "metadata": {
    "id": "bI1oXqL-NQkq"
   },
   "source": [
    "Using the same bracket as the official UEFA Euro 2024, our model predicts that England will win the EURO 2024. This result is coherent with England's performance in the last couple years as they where runner ups in the last EURO."
   ]
  }
 ],
 "metadata": {
  "colab": {
   "provenance": []
  },
  "kernelspec": {
   "display_name": "Python 3 (ipykernel)",
   "language": "python",
   "name": "python3"
  },
  "language_info": {
   "codemirror_mode": {
    "name": "ipython",
    "version": 3
   },
   "file_extension": ".py",
   "mimetype": "text/x-python",
   "name": "python",
   "nbconvert_exporter": "python",
   "pygments_lexer": "ipython3",
   "version": "3.11.5"
  }
 },
 "nbformat": 4,
 "nbformat_minor": 4
}
